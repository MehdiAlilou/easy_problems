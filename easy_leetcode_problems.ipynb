{
 "cells": [
  {
   "cell_type": "markdown",
   "id": "72e87edd",
   "metadata": {},
   "source": [
    "# Easy leet code problems"
   ]
  },
  {
   "cell_type": "raw",
   "id": "9f097f9f",
   "metadata": {},
   "source": [
    "Two Sum: Find two numbers in an array that add up to a specific target sum.\n",
    "Reverse Integer: Reverse the digits of an integer.\n",
    "Palindrome Number: Determine if a number is a palindrome.\n",
    "Roman to Integer: Convert a Roman numeral to an integer.\n",
    "Valid Parentheses: Determine if a given string of parentheses is valid.\n",
    "Merge Two Sorted Lists: Merge two sorted linked lists into a single sorted list.\n",
    "Remove Duplicates from Sorted Array: Remove duplicates in-place from a sorted array.\n",
    "Single Number: Find the non-duplicate element in an array where every other element appears twice.\n",
    "Climbing Stairs: Count the number of distinct ways to reach the top of a staircase with n steps.\n",
    "Valid Anagram: Determine if two strings are anagrams of each other.\n",
    "\n",
    "Maximum Subarray: Find the contiguous subarray with the largest sum.\n",
    "Best Time to Buy and Sell Stock: Determine the maximum profit that can be achieved by buying and selling stocks.\n",
    "Intersection of Two Arrays: Find the intersection of two arrays and return the unique elements.\n",
    "Majority Element: Find the element that appears more than n/2 times in an array.\n",
    "Move Zeroes: Move all zeros to the end of an array while maintaining the relative order of other elements.\n",
    "Valid Sudoku: Determine if a 9x9 Sudoku board is valid.\n",
    "Longest Common Prefix: Find the longest common prefix string among an array of strings.\n",
    "Reverse Linked List: Reverse a singly linked list.\n",
    "Valid BST: Determine if a binary tree is a valid binary search tree.\n",
    "Merge Sorted Array: Merge two sorted arrays into a single sorted array in-place.\n",
    "\n",
    "Palindrome Linked List: Determine if a linked list is a palindrome.\n",
    "Excel Sheet Column Number: Given a column title as it appears in an Excel sheet, return its corresponding column number.\n",
    "Majority Element II: Find all elements that appear more than ⌊n/3⌋ times in an array.\n",
    "Reverse String II: Reverse the characters of a string in groups of size k.\n",
    "Valid Perfect Square: Given a positive integer num, write a function to determine if it is a perfect square.\n",
    "Intersection of Two Linked Lists: Find the node at which two linked lists intersect.\n",
    "Remove Duplicates from Sorted List II: Remove all duplicates from a sorted linked list, keeping only distinct elements.\n",
    "Climbing Stairs II: Given an integer n representing the number of steps, return the number of distinct ways to climb to the top (you can take either 1 step or 2 steps at a time).\n",
    "Merge k Sorted Lists: Merge k sorted linked lists and return it as one sorted list.\n",
    "Valid Parenthesis String: Given a string containing only three types of characters: '(', ')', and '*', determine if the string is valid.\n",
    "\n",
    "Reverse Words in a String: Given a string, reverse the order of words in it. For example, \"Hello World\" should become \"World Hello\".\n",
    "Longest Substring Without Repeating Characters: Find the length of the longest substring without repeating characters in a given string.\n",
    "Implement Stack using Queues: Implement a stack using two queues.\n",
    "Valid Sudoku Solver: Solve a partially filled Sudoku board by filling in the missing numbers. Ensure the final board is valid.\n",
    "Remove Nth Node From End of List: Given a linked list, remove the n-th node from the end of the list and return its head.\n",
    "Two Sum II - Input array is sorted: Find two numbers in a sorted array that add up to a specific target sum.\n",
    "Find All Anagrams in a String: Given a string and a pattern, find all anagrams of the pattern in the string.\n",
    "Reverse Nodes in k-Group: Reverse nodes in a linked list in groups of size k. For example, given 1->2->3->4->5 and k = 3, return 3->2->1->4->5.\n",
    "Rotate Array: Rotate an array of n elements to the right by k steps. For example, given [1,2,3,4,5,6,7] and k = 3, the array should be modified to [5,6,7,1,2,3,4].\n",
    "String to Integer (atoi): Implement the atoi function, which converts a string to an integer.\n",
    "\n",
    "Binary Tree Level Order Traversal: Perform a level order traversal of a binary tree and return the node values at each level.\n",
    "Reverse Linked List II: Reverse a linked list from position m to n.\n",
    "Implement Trie (Prefix Tree): Implement a trie data structure that supports insert, search, and startsWith operations.\n",
    "Binary Tree Inorder Traversal: Perform an inorder traversal of a binary tree and return the node values.\n",
    "Validate Binary Search Tree: Determine if a binary tree is a valid binary search tree.\n",
    "Unique Paths: Given a grid of m x n, find the number of unique paths from the top-left corner to the bottom-right corner.\n",
    "Subsets: Generate all possible subsets of a set.\n",
    "Count and Say: Generate the nth count and say sequence.\n",
    "Pow(x, n): Implement a function to calculate x raised to the power of n.\n",
    "Combination Sum: Given a set of candidate numbers and a target sum, find all unique combinations of the candidates that sum up to the target.\n",
    "\n",
    "Word Search: Given a 2D board and a word, determine if the word exists in the board.\n",
    "Merge Intervals: Given a collection of intervals, merge overlapping intervals.\n",
    "Course Schedule: Determine if it is possible to complete all courses given a list of prerequisites.\n",
    "Next Permutation: Implement the next permutation, which rearranges numbers into the lexicographically next greater permutation of numbers.\n",
    "Longest Increasing Subsequence: Find the length of the longest increasing subsequence in an array.\n",
    "Binary Tree Maximum Path Sum: Find the maximum path sum in a binary tree.\n",
    "Jump Game: Determine if you can reach the last index of an array by jumping from index to index.\n",
    "Group Anagrams: Given an array of strings, group the anagrams together.\n",
    "Container With Most Water: Given n non-negative integers representing vertical lines, find two lines that form a container that holds the most water.\n",
    "Implement Regular Expression Matching: Implement regular expression matching with support for '.' and '*'.\n"
   ]
  },
  {
   "cell_type": "markdown",
   "id": "88ad2a11",
   "metadata": {},
   "source": [
    "### 1. Two sum"
   ]
  },
  {
   "cell_type": "code",
   "execution_count": 1,
   "id": "d23cab2a",
   "metadata": {},
   "outputs": [
    {
     "data": {
      "text/plain": [
       "[0, 1]"
      ]
     },
     "execution_count": 1,
     "metadata": {},
     "output_type": "execute_result"
    }
   ],
   "source": [
    "def two_sum(nums=[2,7,3,5],target=9):\n",
    "    dic={}\n",
    "    for i in range(len(nums)):\n",
    "        if not nums[i] in dic:\n",
    "            dic[target-nums[i]]=i\n",
    "        else:\n",
    "            return [dic[nums[i]],i]\n",
    "        \n",
    "two_sum()"
   ]
  },
  {
   "cell_type": "markdown",
   "id": "77d699df",
   "metadata": {},
   "source": [
    "### 2. Reverse integer"
   ]
  },
  {
   "cell_type": "code",
   "execution_count": 17,
   "id": "06dee85e",
   "metadata": {},
   "outputs": [
    {
     "data": {
      "text/plain": [
       "-891"
      ]
     },
     "execution_count": 17,
     "metadata": {},
     "output_type": "execute_result"
    }
   ],
   "source": [
    "def reverse_int(num=-1980):\n",
    "    res=0\n",
    "    sign=1\n",
    "    if num<0:\n",
    "        num*=-1\n",
    "        sign=-1\n",
    "\n",
    "    for i in range(len(str(num))-1,-1,-1):\n",
    "        res=res+(num%10)*10**i\n",
    "        num=num//10\n",
    "    return sign*res\n",
    "\n",
    "reverse_int()"
   ]
  },
  {
   "cell_type": "code",
   "execution_count": 23,
   "id": "91eab831",
   "metadata": {},
   "outputs": [
    {
     "data": {
      "text/plain": [
       "-891"
      ]
     },
     "execution_count": 23,
     "metadata": {},
     "output_type": "execute_result"
    }
   ],
   "source": [
    "def reverse_int2(num=-1980):\n",
    "    res=0\n",
    "    sign=1\n",
    "    if num<0:\n",
    "        sign=-1\n",
    "        num*=-1\n",
    "    \n",
    "    while num:\n",
    "        res=10*res+(num%10)\n",
    "        num=num//10\n",
    "    return sign*res\n",
    "\n",
    "reverse_int2()"
   ]
  },
  {
   "cell_type": "markdown",
   "id": "9274d076",
   "metadata": {},
   "source": [
    "### 3. Palindrome Number with and without coverting to string"
   ]
  },
  {
   "cell_type": "code",
   "execution_count": 12,
   "id": "69d5d53b",
   "metadata": {},
   "outputs": [
    {
     "data": {
      "text/plain": [
       "True"
      ]
     },
     "execution_count": 12,
     "metadata": {},
     "output_type": "execute_result"
    }
   ],
   "source": [
    "\n",
    "def palindrome_num(x=12121):\n",
    "    if x<0:\n",
    "        return False\n",
    "\n",
    "    x=list(str(x))\n",
    "    l,r=0,len(x)-1\n",
    "    while l<=r:\n",
    "        if x[l]==x[r]:\n",
    "            r-=1\n",
    "            l+=1\n",
    "        else:\n",
    "            return False\n",
    "    return True\n",
    "\n",
    "palindrome_num()\n",
    "\n"
   ]
  },
  {
   "cell_type": "code",
   "execution_count": 14,
   "id": "733c8ba4",
   "metadata": {},
   "outputs": [
    {
     "name": "stdout",
     "output_type": "stream",
     "text": [
      "100\n"
     ]
    },
    {
     "data": {
      "text/plain": [
       "True"
      ]
     },
     "execution_count": 14,
     "metadata": {},
     "output_type": "execute_result"
    }
   ],
   "source": [
    "def palindrome_num2(x=121):\n",
    "    if x<0:\n",
    "        return False\n",
    "    div=1\n",
    "    while x>10*div:\n",
    "        div=10*div\n",
    "    print(div)\n",
    "        \n",
    "    while x:\n",
    "        right=x%10\n",
    "        left=x//div\n",
    "        \n",
    "        if not right==left:\n",
    "            return False\n",
    "        #chop left and right digits\n",
    "        x=(x%div)//10\n",
    "        #since we chopped two digits\n",
    "        div/=100\n",
    "    return True\n",
    "\n",
    "palindrome_num2()\n",
    "        "
   ]
  },
  {
   "cell_type": "markdown",
   "id": "586fcfe5",
   "metadata": {},
   "source": [
    "### 4. Roman to Integer"
   ]
  },
  {
   "cell_type": "markdown",
   "id": "b5c6a379",
   "metadata": {},
   "source": [
    "Roman numerals are represented by seven different symbols: I, V, X, L, C, D and M.\n",
    "\n",
    "Symbol       Value\n",
    "I             1\n",
    "V             5\n",
    "X             10\n",
    "L             50\n",
    "C             100\n",
    "D             500\n",
    "M             1000\n",
    "For example, 2 is written as II in Roman numeral, just two ones added together. 12 is written as XII, which is simply X + II. The number 27 is written as XXVII, which is XX + V + II.\n",
    "I can be placed before V (5) and X (10) to make 4 and 9. \n",
    "X can be placed before L (50) and C (100) to make 40 and 90. \n",
    "C can be placed before D (500) and M (1000) to make 400 and 900."
   ]
  },
  {
   "cell_type": "code",
   "execution_count": 37,
   "id": "e9a7f0bc",
   "metadata": {},
   "outputs": [
    {
     "data": {
      "text/plain": [
       "14"
      ]
     },
     "execution_count": 37,
     "metadata": {},
     "output_type": "execute_result"
    }
   ],
   "source": [
    "def roman_int(s='IVX'):\n",
    "    map1={'I':1,'V':5,'X':10,'L':50,'C':100,'D':500,'M':1000}\n",
    "    map2={'IV':4,'IX':9,'XL':50,'XC':90,'CD':400,'CM':900}\n",
    "    \n",
    "    i=0\n",
    "    n=len(s)\n",
    "    s=list(s)\n",
    "    res=0\n",
    "\n",
    "    while i<n:\n",
    "        if i<n-1 and s[i]+s[i+1]  in map2:\n",
    "            res+=map2[s[i]+s[i+1]]\n",
    "            i+=2\n",
    "        elif  s[i] in map1:\n",
    "            res+=map1[s[i]]\n",
    "            i+=1\n",
    "        else:return\n",
    "    return res\n",
    "            \n",
    "            \n",
    "roman_int()       \n",
    "    "
   ]
  },
  {
   "cell_type": "markdown",
   "id": "cac7c6d3",
   "metadata": {},
   "source": [
    "### 5. Valid Parentheses"
   ]
  },
  {
   "cell_type": "code",
   "execution_count": 53,
   "id": "3e38bea5",
   "metadata": {},
   "outputs": [
    {
     "data": {
      "text/plain": [
       "True"
      ]
     },
     "execution_count": 53,
     "metadata": {},
     "output_type": "execute_result"
    }
   ],
   "source": [
    "def is_valid_paranthesis(s='[((()))[]]'):\n",
    "    dic={'(':')','[':']'}\n",
    "    stk=[]\n",
    "    \n",
    "    for i in range(len(s)):\n",
    "        if s[i] in dic:\n",
    "            stk.append(dic[s[i]])\n",
    "        else:\n",
    "            if stk and stk[-1]==s[i]:\n",
    "                stk.pop()\n",
    "            else:\n",
    "                return False\n",
    "    return stk==[]\n",
    "    \n",
    "is_valid_paranthesis()"
   ]
  },
  {
   "cell_type": "markdown",
   "id": "f1f9b82e",
   "metadata": {},
   "source": [
    "### 6. Merge Two Sorted Linked Lists"
   ]
  },
  {
   "cell_type": "code",
   "execution_count": 1,
   "id": "663bef55",
   "metadata": {},
   "outputs": [
    {
     "name": "stdout",
     "output_type": "stream",
     "text": [
      "1-->5-->15-->100-->200-->250-->None\n"
     ]
    }
   ],
   "source": [
    "class ListNode:\n",
    "    def __init__(self,val=0,next=None):\n",
    "        self.val=val\n",
    "        self.next=next\n",
    "        \n",
    "def print_list(head):\n",
    "    cur=head\n",
    "    while cur:\n",
    "        print(cur.val,end='-->')\n",
    "        cur=cur.next\n",
    "    print('None')\n",
    "\n",
    "def merge2lists(h1=ListNode(1,ListNode(100,ListNode(200))),h2=ListNode(5,ListNode(15,ListNode(250)))):\n",
    "    dum=ListNode()\n",
    "    cur=dum\n",
    "    p1,p2=h1,h2\n",
    "    \n",
    "    while p1 and p2:\n",
    "        if p1.val<=p2.val:\n",
    "            cur.next=p1\n",
    "            p1=p1.next\n",
    "        else:\n",
    "            cur.next=p2\n",
    "            p2=p2.next\n",
    "        cur=cur.next\n",
    "    if p1:\n",
    "        cur.next=p1\n",
    "    if p2:\n",
    "        cur.next=p2\n",
    "    return dum.next\n",
    "\n",
    "print_list(merge2lists())"
   ]
  },
  {
   "cell_type": "markdown",
   "id": "ce4722a2",
   "metadata": {},
   "source": [
    "### 7.Remove Duplicates from Sorted Array: (in place)"
   ]
  },
  {
   "cell_type": "code",
   "execution_count": 75,
   "id": "1eae2c37",
   "metadata": {},
   "outputs": [
    {
     "data": {
      "text/plain": [
       "[2, 3, 4, 5]"
      ]
     },
     "execution_count": 75,
     "metadata": {},
     "output_type": "execute_result"
    }
   ],
   "source": [
    "def rem_duplicates(nums=[2,2,2,2,3,3,4,4,5]):\n",
    "\n",
    "    l,r=0,0\n",
    "    \n",
    "    while r<len(nums):\n",
    "        if nums[l]!=nums[r]:\n",
    "            l+=1\n",
    "            nums[l]=nums[r]\n",
    "        r+=1\n",
    "            \n",
    "\n",
    "    return nums[:l+1]\n",
    "\n",
    "rem_duplicates()\n",
    "    "
   ]
  },
  {
   "cell_type": "markdown",
   "id": "16b5ec6f",
   "metadata": {},
   "source": [
    "### 8. Single Number: (without extra memory)\n",
    "Find the non-duplicate element in an array where every other element appears twice."
   ]
  },
  {
   "cell_type": "code",
   "execution_count": 76,
   "id": "3661f336",
   "metadata": {},
   "outputs": [
    {
     "data": {
      "text/plain": [
       "3"
      ]
     },
     "execution_count": 76,
     "metadata": {},
     "output_type": "execute_result"
    }
   ],
   "source": [
    "# xor will cancel out (make it zero) the duplicated nums and single number will remain at the end of for loop\n",
    "def single_num(nums=[2,2,3,4,4]):\n",
    "    res=0\n",
    "    for num in nums:\n",
    "        res=res^num #xor\n",
    "    return res\n",
    "    \n",
    "single_num()"
   ]
  },
  {
   "cell_type": "markdown",
   "id": "5362f4ca",
   "metadata": {},
   "source": [
    "### 9. Climbing Stairs: \n",
    "Count the number of distinct ways to reach the top of a staircase with n steps."
   ]
  },
  {
   "cell_type": "code",
   "execution_count": 77,
   "id": "0737bba5",
   "metadata": {},
   "outputs": [
    {
     "name": "stdout",
     "output_type": "stream",
     "text": [
      "1,2,3,5,8,13,21,34,55,"
     ]
    }
   ],
   "source": [
    "def stair_case(n=6):\n",
    "    dp=[0]*(n+1)\n",
    "    dp[0]=1\n",
    "    dp[1]=1\n",
    "    for i in range(2,len(dp)):\n",
    "        dp[i]=dp[i-1]+dp[i-2]\n",
    "    return dp[n]\n",
    "\n",
    "for i in range(1,10):\n",
    "    print(stair_case(i),end=',')"
   ]
  },
  {
   "cell_type": "markdown",
   "id": "4d0532b7",
   "metadata": {},
   "source": [
    "### 10. Valid Anangram\n"
   ]
  },
  {
   "cell_type": "code",
   "execution_count": 78,
   "id": "6235c226",
   "metadata": {},
   "outputs": [
    {
     "data": {
      "text/plain": [
       "True"
      ]
     },
     "execution_count": 78,
     "metadata": {},
     "output_type": "execute_result"
    }
   ],
   "source": [
    "from collections import Counter\n",
    "\n",
    "def anagram(s='anagram',t='nagaram'):\n",
    "    return Counter(s)==Counter(t)\n",
    "\n",
    "anagram()\n"
   ]
  },
  {
   "cell_type": "code",
   "execution_count": 79,
   "id": "ba17ab96",
   "metadata": {},
   "outputs": [
    {
     "data": {
      "text/plain": [
       "True"
      ]
     },
     "execution_count": 79,
     "metadata": {},
     "output_type": "execute_result"
    }
   ],
   "source": [
    "# without extra memory\n",
    "\n",
    "def anagram2(s='anagram',t='nagaram'):\n",
    "    return sorted(s)==sorted(t)\n",
    "\n",
    "anagram()"
   ]
  },
  {
   "cell_type": "markdown",
   "id": "e2689ac5",
   "metadata": {},
   "source": [
    "### 11. Maximum Subarray: \n",
    "Find the contiguous subarray with the largest sum."
   ]
  },
  {
   "cell_type": "code",
   "execution_count": 80,
   "id": "5dee2ef3",
   "metadata": {},
   "outputs": [
    {
     "data": {
      "text/plain": [
       "7"
      ]
     },
     "execution_count": 80,
     "metadata": {},
     "output_type": "execute_result"
    }
   ],
   "source": [
    "def max_subarray(nums=[1,2,3,1,-50,6]):\n",
    "    cur_sum=tot_sum=nums[0]\n",
    "    \n",
    "    for i in range(1,len(nums)):\n",
    "        cur_sum=max(nums[i],nums[i]+cur_sum)\n",
    "        tot_sum=max(tot_sum,cur_sum)\n",
    "    return tot_sum\n",
    "\n",
    "max_subarray()"
   ]
  },
  {
   "cell_type": "markdown",
   "id": "488889bc",
   "metadata": {},
   "source": [
    "### 12. Best Time to Buy and Sell Stock: \n",
    "Determine the maximum profit that can be achieved by buying and selling stocks. \n",
    "Input: prices = [7,1,5,3,6,4]\n",
    "Output: 5\n",
    "Explanation: Buy on day 2 (price = 1) and sell on day 5 (price = 6), profit = 6-1 = 5."
   ]
  },
  {
   "cell_type": "code",
   "execution_count": 81,
   "id": "fbfa5959",
   "metadata": {},
   "outputs": [
    {
     "data": {
      "text/plain": [
       "39"
      ]
     },
     "execution_count": 81,
     "metadata": {},
     "output_type": "execute_result"
    }
   ],
   "source": [
    "def best_time(prices = [7,10,5,30,1,40]):\n",
    "    max_profit=0\n",
    "    l,r=0,1\n",
    "    while r<len(prices):\n",
    "        if prices[r]-prices[l]>0:\n",
    "            max_profit=max(max_profit,prices[r]-prices[l])\n",
    "        else:\n",
    "            l=r\n",
    "        r+=1\n",
    "    return max_profit\n",
    "\n",
    "best_time()\n",
    "    "
   ]
  },
  {
   "cell_type": "markdown",
   "id": "2bda81bd",
   "metadata": {},
   "source": [
    "### 13. intersection of two arrays"
   ]
  },
  {
   "cell_type": "code",
   "execution_count": 82,
   "id": "91ceae88",
   "metadata": {},
   "outputs": [
    {
     "data": {
      "text/plain": [
       "[9, 4]"
      ]
     },
     "execution_count": 82,
     "metadata": {},
     "output_type": "execute_result"
    }
   ],
   "source": [
    "def intersect(nums1 = [4,9,5], nums2 = [9,4,9,8,4]):\n",
    "    \n",
    "    nums1Set=set()\n",
    "    intersectSet=set()\n",
    "    \n",
    "    for num in nums1:\n",
    "        nums1Set.add(num)\n",
    "        \n",
    "    for num in nums2:\n",
    "        if num in nums1Set:\n",
    "            intersectSet.add(num)\n",
    "    return list(intersectSet)\n",
    "\n",
    "intersect()\n",
    "            \n",
    "            \n",
    "        "
   ]
  },
  {
   "cell_type": "markdown",
   "id": "d93583f8",
   "metadata": {},
   "source": [
    "### 14. Majority Element: \n",
    "Find the element that appears more than n/2 times in an array"
   ]
  },
  {
   "cell_type": "code",
   "execution_count": 83,
   "id": "3e6e2980",
   "metadata": {},
   "outputs": [
    {
     "data": {
      "text/plain": [
       "2"
      ]
     },
     "execution_count": 83,
     "metadata": {},
     "output_type": "execute_result"
    }
   ],
   "source": [
    "def majority(nums = [2,2,1,1,1,2,2]):\n",
    "    dic={}\n",
    "    for num in nums:\n",
    "        if num not in dic:\n",
    "            dic[num]=1\n",
    "        else:\n",
    "            dic[num]+=1\n",
    "            \n",
    "        if dic[num]>len(nums)/2:\n",
    "            return num\n",
    "        \n",
    "majority()"
   ]
  },
  {
   "cell_type": "markdown",
   "id": "28766d7e",
   "metadata": {},
   "source": [
    "### 15. Move Zeroes: \n",
    "Move all zeros to the end of an array while maintaining the relative order of other elements."
   ]
  },
  {
   "cell_type": "code",
   "execution_count": 84,
   "id": "3559f36c",
   "metadata": {},
   "outputs": [
    {
     "data": {
      "text/plain": [
       "[1, 3, 12, 0, 0]"
      ]
     },
     "execution_count": 84,
     "metadata": {},
     "output_type": "execute_result"
    }
   ],
   "source": [
    "def move_zeros(nums=[0,1,0,3,12]):\n",
    "    l,r=0,0\n",
    "    while r<len(nums):\n",
    "        if nums[r]!=0:\n",
    "            nums[l],nums[r]=nums[r],nums[l]\n",
    "            l+=1\n",
    "        r+=1\n",
    "    return nums\n",
    "\n",
    "move_zeros()"
   ]
  },
  {
   "cell_type": "markdown",
   "id": "17dcf3a3",
   "metadata": {},
   "source": [
    "### 16. Valid Sudoku"
   ]
  },
  {
   "cell_type": "code",
   "execution_count": 85,
   "id": "1c1b33b1",
   "metadata": {},
   "outputs": [
    {
     "data": {
      "text/plain": [
       "True"
      ]
     },
     "execution_count": 85,
     "metadata": {},
     "output_type": "execute_result"
    }
   ],
   "source": [
    "import collections \n",
    "def valid_soduku(board=\n",
    "                    [[\"5\",\"3\",\".\",\".\",\"7\",\".\",\".\",\".\",\".\"]\n",
    "                    ,[\"6\",\".\",\".\",\"1\",\"9\",\"5\",\".\",\".\",\".\"]\n",
    "                    ,[\".\",\"9\",\"8\",\".\",\".\",\".\",\".\",\"6\",\".\"]\n",
    "                    ,[\"8\",\".\",\".\",\".\",\"6\",\".\",\".\",\".\",\"3\"]\n",
    "                    ,[\"4\",\".\",\".\",\"8\",\".\",\"3\",\".\",\".\",\"1\"]\n",
    "                    ,[\"7\",\".\",\".\",\".\",\"2\",\".\",\".\",\".\",\"6\"]\n",
    "                    ,[\".\",\"6\",\".\",\".\",\".\",\".\",\"2\",\"8\",\".\"]\n",
    "                    ,[\".\",\".\",\".\",\"4\",\"1\",\"9\",\".\",\".\",\"5\"]\n",
    "                    ,[\".\",\".\",\".\",\".\",\"8\",\".\",\".\",\"7\",\"9\"]]):\n",
    "    rows=collections.defaultdict(set) # key is row numbers, value is a set holding the unique values of a row\n",
    "    cols=collections.defaultdict(set)\n",
    "    boxes=collections.defaultdict(set)# key is a tuple (r/3,c/3)\n",
    "\n",
    "    for r in range(9):\n",
    "        for c in range(9):\n",
    "            if board[r][c]=='.':\n",
    "                continue\n",
    "            if (board[r][c] in rows[r] or \n",
    "               board[r][c] in cols[c] or \n",
    "               board[r][c] in boxes[(r/3,c/3)]):\n",
    "                return False\n",
    "            rows[r].add(board[r][c])\n",
    "            cols[c].add(board[r][c])\n",
    "            boxes[(r/3,c/3)].add(board[r][c])\n",
    "    return True\n",
    "\n",
    "valid_soduku()\n"
   ]
  },
  {
   "cell_type": "markdown",
   "id": "8e223caf",
   "metadata": {},
   "source": [
    "### 17. Longest Common Prefix: \n",
    "Find the longest common prefix string among an array of strings."
   ]
  },
  {
   "cell_type": "code",
   "execution_count": 16,
   "id": "e5eb55f8",
   "metadata": {},
   "outputs": [
    {
     "name": "stdout",
     "output_type": "stream",
     "text": [
      "['al', 'alibaba', 'alibahador', 'alibarezea']\n"
     ]
    },
    {
     "data": {
      "text/plain": [
       "'al'"
      ]
     },
     "execution_count": 16,
     "metadata": {},
     "output_type": "execute_result"
    }
   ],
   "source": [
    "def LCSub(s=['alibaba','alibahador','alibarezea','al']):\n",
    "    s=sorted(s)\n",
    "    print(s)\n",
    "    res=''\n",
    "    query=s[0]\n",
    "    for ch in range(len(query)):\n",
    "        for w in range (1,len(s)):\n",
    "            if s[w][ch]!=query[ch]:\n",
    "                return res\n",
    "        res+=query[ch]\n",
    "    return res\n",
    "        \n",
    "LCSub()      "
   ]
  },
  {
   "cell_type": "markdown",
   "id": "4dea2e06",
   "metadata": {},
   "source": [
    "### 18. Reverse Linked List: \n",
    "Reverse a singly linked list."
   ]
  },
  {
   "cell_type": "code",
   "execution_count": 87,
   "id": "d6e7b6a0",
   "metadata": {},
   "outputs": [
    {
     "name": "stdout",
     "output_type": "stream",
     "text": [
      "300-->200-->100-->1-->None\n"
     ]
    }
   ],
   "source": [
    "def reverse_list(h1=ListNode(1,ListNode(100,ListNode(200,ListNode(300))))):\n",
    "    prev,cur=None,h1\n",
    "    \n",
    "    while cur:\n",
    "        nex=cur.next\n",
    "        cur.next=prev\n",
    "        prev=cur\n",
    "        cur=nex\n",
    "    return prev\n",
    "\n",
    "print_list(reverse_list())"
   ]
  },
  {
   "cell_type": "markdown",
   "id": "c9d28f81",
   "metadata": {},
   "source": [
    "### 19. Valid BST: \n",
    "Determine if a binary tree is a valid binary search tree."
   ]
  },
  {
   "cell_type": "code",
   "execution_count": 88,
   "id": "cd069d78",
   "metadata": {},
   "outputs": [],
   "source": [
    "class treeNode:\n",
    "    def __init__(self,val=0,left=None,right=None):\n",
    "        self.val=val\n",
    "        self.left=left\n",
    "        self.right=right"
   ]
  },
  {
   "cell_type": "code",
   "execution_count": 89,
   "id": "c0ef9871",
   "metadata": {},
   "outputs": [
    {
     "data": {
      "text/plain": [
       "True"
      ]
     },
     "execution_count": 89,
     "metadata": {},
     "output_type": "execute_result"
    }
   ],
   "source": [
    "from collections import deque\n",
    "def valid_BST( root=treeNode(  10, treeNode(2),    treeNode(30,treeNode(20),treeNode(40)))):\n",
    "    q=deque([(root,float('-inf'),float('inf'))])\n",
    "    while q:\n",
    "        node,lv,rv=q.popleft()\n",
    "        if lv>node.val or rv<node.val:\n",
    "            return False\n",
    "\n",
    "        if node.left:\n",
    "            q.append((node.left,lv,node.val))\n",
    "        if node.right:\n",
    "            q.append((node.right,node.val,rv))\n",
    "    return True\n",
    "\n",
    "valid_BST()\n"
   ]
  },
  {
   "cell_type": "markdown",
   "id": "abc2e741",
   "metadata": {},
   "source": [
    "### 20. Merge Sorted Array: \n",
    "Merge two sorted arrays into a single sorted array in-place."
   ]
  },
  {
   "cell_type": "code",
   "execution_count": 19,
   "id": "bd54a111",
   "metadata": {},
   "outputs": [
    {
     "data": {
      "text/plain": [
       "[2, 5, 6, 10, 20, 30, 40]"
      ]
     },
     "execution_count": 19,
     "metadata": {},
     "output_type": "execute_result"
    }
   ],
   "source": [
    "def merge_sorted(nums1 = [10,20,30,40,0,0,0], m = 4, nums2 = [2,5,6], n = 3):\n",
    "    \n",
    "    i,j=m-1,n-1\n",
    "    ind=len(nums1)-1\n",
    "    \n",
    "    while i>=0 and j>=0:\n",
    "        if nums1[i]>nums2[j]:\n",
    "            nums1[ind]=nums1[i]\n",
    "            i-=1\n",
    "        else:\n",
    "            nums1[ind]=nums2[j]\n",
    "            j-=1\n",
    "        ind-=1\n",
    "            \n",
    "    while j>=0:\n",
    "        nums1[ind]=nums2[j]\n",
    "        j-=1\n",
    "        ind-=1\n",
    "    return nums1\n",
    "\n",
    "merge_sorted()\n",
    "        \n",
    "            \n",
    "            "
   ]
  },
  {
   "cell_type": "markdown",
   "id": "7e90feb0",
   "metadata": {},
   "source": [
    "### 21. Palindrome Linked List: \n",
    "Determine if a linked list is a palindrome."
   ]
  },
  {
   "cell_type": "code",
   "execution_count": 91,
   "id": "4058d2a0",
   "metadata": {},
   "outputs": [
    {
     "name": "stdout",
     "output_type": "stream",
     "text": [
      "1-->100-->200-->100-->1-->None\n",
      "1-->100-->200-->None\n",
      "1-->100-->200-->None\n"
     ]
    },
    {
     "data": {
      "text/plain": [
       "True"
      ]
     },
     "execution_count": 91,
     "metadata": {},
     "output_type": "execute_result"
    }
   ],
   "source": [
    "def palindrome_list(h1=ListNode(1,ListNode(100,ListNode(200,ListNode(100,ListNode(1)))))):\n",
    "    print_list(h1)\n",
    "    \n",
    "    #find the middle node\n",
    "    slow,fast=h1,h1\n",
    "    while fast and fast.next:\n",
    "        slow=slow.next\n",
    "        fast=fast.next.next\n",
    "        \n",
    "    #reverse the second half of the list\n",
    "    prev,cur=None,slow\n",
    "    while cur:\n",
    "        nex=cur.next\n",
    "        cur.next=prev\n",
    "        prev=cur\n",
    "        cur=nex\n",
    "    \n",
    "    print_list(h1)\n",
    "    print_list(prev)\n",
    "    \n",
    "    #check if first half starting from h1 is equl to the second half starting from prev\n",
    "    cur1,cur2=h1,prev\n",
    "    while cur1 and cur2:\n",
    "        if cur1.val==cur2.val:\n",
    "            cur1=cur1.next\n",
    "            cur2=cur2.next\n",
    "        else:\n",
    "            return False\n",
    "    return True\n",
    "\n",
    "        \n",
    "    \n",
    "    \n",
    "palindrome_list()\n",
    "    "
   ]
  },
  {
   "cell_type": "markdown",
   "id": "d554879f",
   "metadata": {},
   "source": [
    "### 22. Excel Sheet Column Number: \n",
    "Given a column title as it appears in an Excel sheet, return its corresponding column number."
   ]
  },
  {
   "cell_type": "code",
   "execution_count": 92,
   "id": "07fd5de5",
   "metadata": {},
   "outputs": [
    {
     "name": "stdout",
     "output_type": "stream",
     "text": [
      "4\n",
      "0\n"
     ]
    },
    {
     "data": {
      "text/plain": [
       "'AE'"
      ]
     },
     "execution_count": 92,
     "metadata": {},
     "output_type": "execute_result"
    }
   ],
   "source": [
    "def convertToTitle( num=31):\n",
    "\n",
    "    res=[]\n",
    "    while num>0:\n",
    "        num-=1\n",
    "        v=num%26\n",
    "        print(v)\n",
    "        res.append(chr(65+v))\n",
    "        num=num//26\n",
    "    return ''.join(res[::-1])\n",
    "\n",
    "convertToTitle()\n",
    " "
   ]
  },
  {
   "cell_type": "code",
   "execution_count": 40,
   "id": "eec31cb1",
   "metadata": {},
   "outputs": [
    {
     "name": "stdout",
     "output_type": "stream",
     "text": [
      "E 5\n",
      "A 1\n"
     ]
    },
    {
     "data": {
      "text/plain": [
       "31"
      ]
     },
     "execution_count": 40,
     "metadata": {},
     "output_type": "execute_result"
    }
   ],
   "source": [
    "def convertColToNum(s='AE'):\n",
    "    res=0\n",
    "    s=s[::-1]\n",
    "    for i in range(len(s)):\n",
    "        print(s[i],ord(s[i])-65+1)\n",
    "        res+=((ord(s[i])-65)+1)*26**i\n",
    "    return res\n",
    "\n",
    "convertColToNum()"
   ]
  },
  {
   "cell_type": "markdown",
   "id": "c5fb79ba",
   "metadata": {},
   "source": [
    "### 23. Majority Element II: \n",
    "Find all elements that appear more than ⌊n/3⌋ times in an array.\n"
   ]
  },
  {
   "cell_type": "code",
   "execution_count": 94,
   "id": "ee70eb9a",
   "metadata": {},
   "outputs": [
    {
     "data": {
      "text/plain": [
       "[1, 2]"
      ]
     },
     "execution_count": 94,
     "metadata": {},
     "output_type": "execute_result"
    }
   ],
   "source": [
    "def majority2(nums=[2,2,1,1,1]):\n",
    "    dic={}\n",
    "    res=set()\n",
    "    for i in range (len(nums)):\n",
    "        if nums[i] not in dic:\n",
    "            dic[ nums[i]]=1\n",
    "        else:\n",
    "            dic[ nums[i]]+=1\n",
    "            \n",
    "        if dic[ nums[i]]>len(nums)/3:\n",
    "            res.add(nums[i])\n",
    "                \n",
    "    return list(res)\n",
    "\n",
    "majority2()          "
   ]
  },
  {
   "cell_type": "markdown",
   "id": "f038c1db",
   "metadata": {},
   "source": [
    "### 24. Reverse String II: \n",
    "Reverse the characters of a string in groups of size k."
   ]
  },
  {
   "cell_type": "code",
   "execution_count": 45,
   "id": "9cfb757c",
   "metadata": {},
   "outputs": [
    {
     "data": {
      "text/plain": [
       "'32165478'"
      ]
     },
     "execution_count": 45,
     "metadata": {},
     "output_type": "execute_result"
    }
   ],
   "source": [
    "def reverse(s='12345678',k=3):\n",
    "    s=list(s)\n",
    "    for i in range(0,len(s)//k):\n",
    " \n",
    "        #(i,i*k,((i+1)*k)-1)\n",
    "        l,r=i*k,i*k+(k-1)\n",
    "        while l<=r:\n",
    "            s[l],s[r]=s[r],s[l]\n",
    "            l+=1\n",
    "            r-=1\n",
    "    return ''.join(s)\n",
    "        \n",
    "reverse()"
   ]
  },
  {
   "cell_type": "raw",
   "id": "10c24018",
   "metadata": {},
   "source": [
    "Given a string s and an integer k, reverse the first k characters for every 2k characters counting from the start of the string.\n",
    "\n",
    "If there are fewer than k characters left, reverse all of them. If there are less than 2k but greater than or equal to k characters, then reverse the first k characters and leave the other as original."
   ]
  },
  {
   "cell_type": "code",
   "execution_count": 96,
   "id": "477b31f9",
   "metadata": {},
   "outputs": [
    {
     "data": {
      "text/plain": [
       "'21346578'"
      ]
     },
     "execution_count": 96,
     "metadata": {},
     "output_type": "execute_result"
    }
   ],
   "source": [
    "def reverseStr(s='12345678', k=2):\n",
    "\n",
    "    s=list(s)\n",
    "    i=0\n",
    "    while i< len(s)//(2*k):\n",
    "        l,r=i*2*k,(i*2*k)+(k-1)\n",
    "        while l<=r:\n",
    "            s[l],s[r]=s[r],s[l]\n",
    "            l+=1\n",
    "            r-=1\n",
    "        i+=1\n",
    "\n",
    "    # handle the last segment\n",
    "    if k<=len(s)-(i*2*k)<2*k:\n",
    "        l,r=i*2*k,i*2*k+(k-1)\n",
    "        while l<=r:\n",
    "            s[l],s[r]=s[r],s[l]\n",
    "            l+=1\n",
    "            r-=1\n",
    "    elif len(s)-(i*2*k)<k:\n",
    "        l,r=i*2*k,len(s)-1\n",
    "        while l<=r:\n",
    "            s[l],s[r]=s[r],s[l]\n",
    "            l+=1\n",
    "            r-=1\n",
    "\n",
    "\n",
    "    return ''.join(s)\n",
    "reverseStr()\n"
   ]
  },
  {
   "cell_type": "markdown",
   "id": "8cf75a91",
   "metadata": {},
   "source": [
    "### 25. Valid Perfect Square: \n",
    "Given a positive integer num, write a function to determine if it is a perfect square."
   ]
  },
  {
   "cell_type": "code",
   "execution_count": 97,
   "id": "318e7c0e",
   "metadata": {},
   "outputs": [
    {
     "data": {
      "text/plain": [
       "True"
      ]
     },
     "execution_count": 97,
     "metadata": {},
     "output_type": "execute_result"
    }
   ],
   "source": [
    "# Babelonian method: new_guess = (old_guess + (num / old_guess)) / 2 \n",
    "def isPerfect(num=6400):\n",
    "    guess=num//2\n",
    "    \n",
    "    while guess*guess>num:\n",
    "        guess=(guess+(num//guess))//2\n",
    "\n",
    "        \n",
    "    return num==guess*guess\n",
    "\n",
    "isPerfect()"
   ]
  },
  {
   "cell_type": "code",
   "execution_count": 52,
   "id": "5616235d",
   "metadata": {},
   "outputs": [
    {
     "data": {
      "text/plain": [
       "False"
      ]
     },
     "execution_count": 52,
     "metadata": {},
     "output_type": "execute_result"
    }
   ],
   "source": [
    "def isPerfectSquare2( num=12):\n",
    "\n",
    "    l,r=0,num\n",
    "\n",
    "    while l<=r:\n",
    "        mid=(l+r)//2\n",
    "        square=mid*mid\n",
    "        if square ==num:\n",
    "            return True\n",
    "        elif square>num:\n",
    "            r=mid-1\n",
    "        else:\n",
    "            l=mid+1\n",
    "    return False\n",
    "\n",
    "isPerfectSquare2()"
   ]
  },
  {
   "cell_type": "markdown",
   "id": "3c9b0e23",
   "metadata": {},
   "source": [
    "### 26. Intersection of Two Linked Lists:\n",
    "Find the node at which two linked lists intersect.\n"
   ]
  },
  {
   "cell_type": "code",
   "execution_count": 99,
   "id": "64503e7d",
   "metadata": {},
   "outputs": [],
   "source": [
    "def getIntersectionNode( headA, headB):\n",
    "\n",
    "    curA,curB=headA,headB\n",
    "    lenA,lenB=0,0\n",
    "\n",
    "    #measure the size of each list separetly \n",
    "    while curA:\n",
    "        curA=curA.next\n",
    "        lenA+=1\n",
    "\n",
    "    while curB:\n",
    "        curB=curB.next\n",
    "        lenB+=1\n",
    "\n",
    "    #reset heads and move the head of longer list to make both same size\n",
    "    curA,curB=headA,headB\n",
    "\n",
    "    if lenA>lenB:\n",
    "        for _ in range (lenA-lenB):\n",
    "            curA=curA.next\n",
    "    else:\n",
    "        for _ in range (lenB-lenA):\n",
    "            curB=curB.next\n",
    "\n",
    "    while  curA and curB:\n",
    "        if curA==curB:\n",
    "            return curA\n",
    "        curA=curA.next\n",
    "        curB=curB.next\n",
    "\n",
    "    return "
   ]
  },
  {
   "cell_type": "markdown",
   "id": "6cbc727c",
   "metadata": {},
   "source": [
    "### 27. Remove Duplicates from Sorted List II: \n",
    "Remove all duplicates from a sorted linked list, keeping only distinct elements."
   ]
  },
  {
   "cell_type": "code",
   "execution_count": 100,
   "id": "66dfe9e9",
   "metadata": {},
   "outputs": [
    {
     "name": "stdout",
     "output_type": "stream",
     "text": [
      "2-->2-->2-->4-->4-->5-->None\n",
      "2-->4-->5-->None\n"
     ]
    }
   ],
   "source": [
    "def rem_duplicate_list(head=ListNode(2,ListNode(2,ListNode(2,ListNode(4,ListNode(4,ListNode(5))))))):\n",
    "    print_list(head)\n",
    "    cur=head\n",
    "    while cur and cur.next:\n",
    "        if cur.val==cur.next.val:\n",
    "            cur.next=cur.next.next\n",
    "        else:\n",
    "            cur=cur.next          \n",
    "    return head\n",
    "    \n",
    "h2=rem_duplicate_list()\n",
    "print_list(h2)"
   ]
  },
  {
   "cell_type": "markdown",
   "id": "6e6081a1",
   "metadata": {},
   "source": [
    "### 28. Merge k Sorted Lists: \n",
    "Merge k sorted linked lists and return it as one sorted list."
   ]
  },
  {
   "cell_type": "code",
   "execution_count": 101,
   "id": "24d88eaa",
   "metadata": {},
   "outputs": [
    {
     "name": "stdout",
     "output_type": "stream",
     "text": [
      "1-->5-->15-->100-->250-->770-->790-->900-->2000-->None\n"
     ]
    }
   ],
   "source": [
    "def merge2lists(h1,h2):\n",
    "    dum=ListNode()\n",
    "    cur=dum\n",
    "    p1,p2=h1,h2\n",
    "    \n",
    "    while p1 and p2:\n",
    "        if p1.val<=p2.val:\n",
    "            cur.next=p1\n",
    "            p1=p1.next\n",
    "        else:\n",
    "            cur.next=p2\n",
    "            p2=p2.next\n",
    "        cur=cur.next\n",
    "    if p1:\n",
    "        cur.next=p1\n",
    "    if p2:\n",
    "        cur.next=p2\n",
    "    return dum.next\n",
    "\n",
    "h1=ListNode(1,ListNode(100,ListNode(2000)))\n",
    "h2=ListNode(5,ListNode(15,ListNode(250)))\n",
    "h3=ListNode(770,ListNode(790,ListNode(900)))\n",
    "lists=[h1,h2,h3]\n",
    "\n",
    "def merge_k_sorted(lists):\n",
    "    while len(lists)>1:\n",
    "        interim_list=[]\n",
    "        for i in range(0,len(lists),2):\n",
    "            l1=lists[i]\n",
    "            l2=lists[i+1] if i+1<len(lists) else None\n",
    "            interim_list.append(merge2lists(l1,l2))\n",
    "        lists=interim_list\n",
    "    return lists[0]\n",
    "\n",
    "hall=merge_k_sorted(lists=lists)\n",
    "print_list(hall)\n"
   ]
  },
  {
   "cell_type": "markdown",
   "id": "e0dc6ca6",
   "metadata": {},
   "source": [
    "### 29. Valid Parenthesis String: \n",
    "Given a string containing only three types of characters: '(', ')', and '*', determine if the string is valid.\n",
    "The following rules define a valid string:\n",
    "\n",
    "Any left parenthesis '(' must have a corresponding right parenthesis ')'.\n",
    "Any right parenthesis ')' must have a corresponding left parenthesis '('.\n",
    "Left parenthesis '(' must go before the corresponding right parenthesis ')'.\n",
    "'*' could be treated as a single right parenthesis ')' or a single left parenthesis '(' or an empty string \"\"."
   ]
  },
  {
   "cell_type": "code",
   "execution_count": 102,
   "id": "70846a96",
   "metadata": {},
   "outputs": [
    {
     "data": {
      "text/plain": [
       "True"
      ]
     },
     "execution_count": 102,
     "metadata": {},
     "output_type": "execute_result"
    }
   ],
   "source": [
    "def checkParanthesis(s='((*****))'):\n",
    "    low=0 # min number of possible \"(\"\n",
    "    high=0 #max number of possible \"(\"\n",
    "    \n",
    "    for ch in s:\n",
    "        if ch=='(':\n",
    "            low+=1\n",
    "            high+=1\n",
    "        elif ch==')':\n",
    "            if low>0:\n",
    "                low-=1\n",
    "            high-=1\n",
    "        elif ch=='*':\n",
    "            if low>0:\n",
    "                low-=1\n",
    "            high+=1\n",
    "            \n",
    "        if high<0:\n",
    "            return False\n",
    "    return low==0\n",
    "            \n",
    "    \n",
    "checkParanthesis()\n",
    "            \n",
    "    \n",
    "        "
   ]
  },
  {
   "cell_type": "markdown",
   "id": "c27592a4",
   "metadata": {},
   "source": [
    "Reverse Words in a String: Given a string, reverse the order of words in it. For example, \"Hello World\" should become \"World Hello\".\n",
    "Longest Substring Without Repeating Characters: Find the length of the longest substring without repeating characters in a given string.\n",
    "Implement Stack using Queues: Implement a stack using two queues.\n",
    "Valid Sudoku Solver: Solve a partially filled Sudoku board by filling in the missing numbers. Ensure the final board is valid.\n",
    "Remove Nth Node From End of List: Given a linked list, remove the n-th node from the end of the list and return its head.\n",
    "Two Sum II - Input array is sorted: Find two numbers in a sorted array that add up to a specific target sum.\n",
    "Find All Anagrams in a String: Given a string and a pattern, find all anagrams of the pattern in the string.\n",
    "Reverse Nodes in k-Group: Reverse nodes in a linked list in groups of size k. For example, given 1->2->3->4->5 and k = 3, return 3->2->1->4->5.\n",
    "Rotate Array: Rotate an array of n elements to the right by k steps. For example, given [1,2,3,4,5,6,7] and k = 3, the array should be modified to [5,6,7,1,2,3,4].\n",
    "String to Integer (atoi): Implement the atoi function, which converts a string to an integer."
   ]
  },
  {
   "cell_type": "markdown",
   "id": "b813e125",
   "metadata": {},
   "source": [
    "### 30. Reverse Words in a String: \n",
    "Given a string, reverse the order of words in it. For example, \"Hello World\" should become \"World Hello\"."
   ]
  },
  {
   "cell_type": "code",
   "execution_count": 103,
   "id": "2c4b3f43",
   "metadata": {},
   "outputs": [
    {
     "data": {
      "text/plain": [
       "'word new hello'"
      ]
     },
     "execution_count": 103,
     "metadata": {},
     "output_type": "execute_result"
    }
   ],
   "source": [
    "def rev_words(s='hello new  word'):\n",
    "    s=[word for word in s.split(' ')]\n",
    "    \n",
    "    l,r=0,len(s)-1\n",
    "    while l<r:\n",
    "        s[l],s[r]=s[r],s[l]\n",
    "        l+=1\n",
    "        r-=1\n",
    "    return ' '.join([word for word in s if word!=''])\n",
    "    \n",
    "rev_words()"
   ]
  },
  {
   "cell_type": "markdown",
   "id": "bbfc8d2f",
   "metadata": {},
   "source": [
    "### 31. Longest Substring Without Repeating Characters: \n",
    "Find the length of the longest substring without repeating characters in a given string."
   ]
  },
  {
   "cell_type": "code",
   "execution_count": 104,
   "id": "8fc90a52",
   "metadata": {},
   "outputs": [
    {
     "data": {
      "text/plain": [
       "(6, [4, 9], 'rezabi')"
      ]
     },
     "execution_count": 104,
     "metadata": {},
     "output_type": "execute_result"
    }
   ],
   "source": [
    "def LSS(s='aliirezabi'):\n",
    "    visited=set()\n",
    "    l,r=0,0\n",
    "    maxSubLen=0\n",
    "    maxwin=[-1,-1]\n",
    "    while r<len(s):\n",
    "        while s[r] in visited:\n",
    "            visited.remove(s[l])\n",
    "            l+=1\n",
    "        \n",
    "        visited.add(s[r])\n",
    "        maxSubLen=max(maxSubLen,(r-l+1))\n",
    "        maxwin=[l,r] if maxSubLen<=(r-l+1) else maxwin\n",
    "        r+=1\n",
    "\n",
    "    return maxSubLen,maxwin,s[maxwin[0]:maxwin[1]+1]\n",
    "\n",
    "LSS()"
   ]
  },
  {
   "cell_type": "markdown",
   "id": "27424960",
   "metadata": {},
   "source": [
    "### 32. Implement Stack using Queues: Implement a stack using two queues.\n"
   ]
  },
  {
   "cell_type": "code",
   "execution_count": 105,
   "id": "ec630fda",
   "metadata": {},
   "outputs": [],
   "source": [
    "class MyStack(object):\n",
    "\n",
    "    def __init__(self):\n",
    "        self.q1=deque()\n",
    "        self.q2=deque()\n",
    "\n",
    "    def push(self, x):\n",
    "\n",
    "        while self.q1:\n",
    "            self.q2.append(self.q1.popleft())\n",
    "\n",
    "        self.q1.append(x)\n",
    "\n",
    "        while self.q2:\n",
    "            self.q1.append(self.q2.popleft())\n",
    "        \n",
    "\n",
    "    def pop(self):\n",
    "        return self.q1.popleft()\n",
    "        \n",
    "\n",
    "    def top(self):\n",
    "        return self.q1[0]\n",
    "        \n",
    "\n",
    "    def empty(self):\n",
    "        return len(self.q1)==0"
   ]
  },
  {
   "cell_type": "markdown",
   "id": "3a3fb8c1",
   "metadata": {},
   "source": [
    "### 33.Valid Sudoku Solver: \n",
    "Solve a partially filled Sudoku board by filling in the missing numbers. Ensure the final board is valid."
   ]
  },
  {
   "cell_type": "code",
   "execution_count": 125,
   "id": "a42f5f1c",
   "metadata": {},
   "outputs": [
    {
     "name": "stdout",
     "output_type": "stream",
     "text": [
      "5,3,.,.,7,.,.,.,.\n",
      "6,.,.,1,9,5,.,.,.\n",
      ".,9,8,.,.,.,.,6,.\n",
      "8,.,.,.,6,.,.,.,3\n",
      "4,.,.,8,.,3,.,.,1\n",
      "7,.,.,.,2,.,.,.,6\n",
      ".,6,.,.,.,.,2,8,.\n",
      ".,.,.,4,1,9,.,.,5\n",
      ".,.,.,.,8,.,.,7,9\n",
      "\n",
      "5,3,1,2,7,6,4,9,8\n",
      "6,2,3,1,9,5,8,4,7\n",
      "1,9,8,3,4,7,5,6,2\n",
      "8,1,2,7,6,4,9,5,3\n",
      "4,7,9,8,5,3,6,2,1\n",
      "7,4,5,9,2,8,3,1,6\n",
      "9,6,7,5,3,1,2,8,4\n",
      "2,8,6,4,1,9,7,3,5\n",
      "3,5,4,6,8,2,1,7,9\n"
     ]
    }
   ],
   "source": [
    "import collections\n",
    "def solveSudoku( board = [[\"5\",\"3\",\".\",\".\",\"7\",\".\",\".\",\".\",\".\"],\n",
    "                          [\"6\",\".\",\".\",\"1\",\"9\",\"5\",\".\",\".\",\".\"],\n",
    "                          [\".\",\"9\",\"8\",\".\",\".\",\".\",\".\",\"6\",\".\"],\n",
    "                          [\"8\",\".\",\".\",\".\",\"6\",\".\",\".\",\".\",\"3\"],\n",
    "                          [\"4\",\".\",\".\",\"8\",\".\",\"3\",\".\",\".\",\"1\"],\n",
    "                          [\"7\",\".\",\".\",\".\",\"2\",\".\",\".\",\".\",\"6\"],\n",
    "                          [\".\",\"6\",\".\",\".\",\".\",\".\",\"2\",\"8\",\".\"],\n",
    "                          [\".\",\".\",\".\",\"4\",\"1\",\"9\",\".\",\".\",\"5\"],\n",
    "                          [\".\",\".\",\".\",\".\",\"8\",\".\",\".\",\"7\",\"9\"]]):\n",
    "\n",
    "    solved=[False]\n",
    "    \n",
    "    res='\\n'.join([','.join(col) for col in board])\n",
    "    print(res)\n",
    "    print('')\n",
    "\n",
    "    rows=collections.defaultdict(set)\n",
    "    cols=collections.defaultdict(set)\n",
    "    boxes=collections.defaultdict(set)\n",
    "\n",
    "    for i in range (9):\n",
    "        for j in range(9):\n",
    "            if board[i][j]!='.':\n",
    "                rows[i].add(int(board[i][j]))\n",
    "                cols[j].add(int(board[i][j]))\n",
    "                boxes[(i/3,j/3)].add(int(board[i][j]))\n",
    "\n",
    "    def back_track(i,j):\n",
    "\n",
    "        if i==9:\n",
    "            solved[0]=True\n",
    "            res='\\n'.join([','.join(col) for col in board])\n",
    "            print(res)\n",
    "            return \n",
    "        \n",
    "\n",
    "        new_i=i+((j+1)//9)\n",
    "        new_j=(j+1)%9\n",
    "\n",
    "        if board[i][j]!='.':\n",
    "            back_track(new_i,new_j)\n",
    "        else:\n",
    "            for num in range(1,10):\n",
    "                if  num not in rows[i] and num not in cols[j] and  num not in boxes[(i/3,j/3)]:\n",
    "                    rows[i].add(num)\n",
    "                    cols[j].add(num)\n",
    "                    boxes[(i/3,j/3)].add(num)\n",
    "                    board[i][j]=str(num)\n",
    "\n",
    "                    back_track(new_i,new_j)\n",
    "                    if not solved[0]:\n",
    "                        rows[i].remove(num)\n",
    "                        cols[j].remove(num)\n",
    "                        #print(i,j)\n",
    "                        boxes[(i/3,j/3)].remove(num)\n",
    "                        board[i][j]='.'\n",
    "\n",
    "    back_track(0,0)\n",
    "    \n",
    "solveSudoku()"
   ]
  },
  {
   "cell_type": "markdown",
   "id": "3a8d5581",
   "metadata": {},
   "source": [
    "### 34. Remove Nth Node From End of List: \n",
    "Given a linked list, remove the n-th node from the end of the list and return its head."
   ]
  },
  {
   "cell_type": "code",
   "execution_count": 121,
   "id": "74503757",
   "metadata": {},
   "outputs": [
    {
     "name": "stdout",
     "output_type": "stream",
     "text": [
      "2-->12-->20-->40-->400-->500-->None\n",
      "2-->20-->40-->400-->500-->None\n"
     ]
    }
   ],
   "source": [
    "# remove nth node from begining\n",
    "def removeNode(head=ListNode(2,ListNode(12,ListNode(20,ListNode(40,ListNode(400,ListNode(500)))))),n=2):\n",
    "    print_list(head)\n",
    "    cur=head\n",
    "    dum=ListNode(-1)\n",
    "    dum.next=cur\n",
    "    prev=dum\n",
    "    i=1\n",
    "    while cur and i<n:\n",
    "        cur=cur.next\n",
    "        prev=prev.next\n",
    "        i+=1\n",
    "\n",
    "    prev.next=cur.next\n",
    "    \n",
    "    return dum.next\n",
    "\n",
    "\n",
    "   \n",
    "print_list(removeNode())"
   ]
  },
  {
   "cell_type": "code",
   "execution_count": 123,
   "id": "e50fa23e",
   "metadata": {},
   "outputs": [
    {
     "name": "stdout",
     "output_type": "stream",
     "text": [
      "2-->12-->20-->40-->400-->500-->None\n",
      "2-->12-->20-->40-->500-->None\n"
     ]
    }
   ],
   "source": [
    "# remove nth node from the end\n",
    "def removeNode(head=ListNode(2,ListNode(12,ListNode(20,ListNode(40,ListNode(400,ListNode(500)))))),n=2):\n",
    "    print_list(head)\n",
    "    cur=head\n",
    "    i=1\n",
    "    while cur:\n",
    "        cur=cur.next\n",
    "        i+=1\n",
    "        \n",
    "    cur=head\n",
    "    dum=ListNode(-1)\n",
    "    dum.next=cur\n",
    "    prev=dum\n",
    "    j=1\n",
    "    while cur and j<i-n:\n",
    "        cur=cur.next\n",
    "        prev=prev.next\n",
    "        j+=1\n",
    "\n",
    "    prev.next=cur.next\n",
    "    \n",
    "    return dum.next\n",
    "\n",
    "\n",
    "   \n",
    "print_list(removeNode())"
   ]
  },
  {
   "cell_type": "markdown",
   "id": "3b9a7cc1",
   "metadata": {},
   "source": [
    "### 35. Two Sum II - Input array is sorted:\n",
    "Find two numbers in a sorted array that add up to a specific target sum.\n"
   ]
  },
  {
   "cell_type": "code",
   "execution_count": 126,
   "id": "065780bf",
   "metadata": {},
   "outputs": [
    {
     "data": {
      "text/plain": [
       "[1, 7]"
      ]
     },
     "execution_count": 126,
     "metadata": {},
     "output_type": "execute_result"
    }
   ],
   "source": [
    "def two_sum_sorted(numbers=[1,2,3,4,6,7,8],target=9):\n",
    "        n=len(numbers)\n",
    "        l,r=0,n-1\n",
    "\n",
    "        while l<r:\n",
    "            if  numbers[l]+numbers[r]==target:\n",
    "                return [l+1,r+1]\n",
    "            elif numbers[l]+numbers[r]<target:\n",
    "                l+=1\n",
    "            else:\n",
    "                r-=1\n",
    "                \n",
    "two_sum_sorted()\n",
    "        "
   ]
  },
  {
   "cell_type": "markdown",
   "id": "2af07607",
   "metadata": {},
   "source": [
    "### 36. Find All Anagrams in a String: \n",
    "Given a string and a pattern, find all anagrams of the pattern in the string.\n"
   ]
  },
  {
   "cell_type": "code",
   "execution_count": 127,
   "id": "29d78a97",
   "metadata": {},
   "outputs": [
    {
     "data": {
      "text/plain": [
       "[0, 6]"
      ]
     },
     "execution_count": 127,
     "metadata": {},
     "output_type": "execute_result"
    }
   ],
   "source": [
    "#two hashmaps + sliding window\n",
    "def findAnagrams( s = \"cbaebabacd\", p = \"abc\"):\n",
    "\n",
    "    n,m=len(s),len(p)\n",
    "    if m>n:\n",
    "        return []\n",
    "    pCount,sCount={},{}\n",
    "\n",
    "    for i in range(m):\n",
    "        pCount[p[i]]=1+pCount.get(p[i],0)\n",
    "        sCount[s[i]]=1+sCount.get(s[i],0)\n",
    "\n",
    "    res=[0] if pCount==sCount else []\n",
    "\n",
    "    l=0\n",
    "    for r in range(m,n):\n",
    "        sCount[s[r]]=1+sCount.get(s[r],0)\n",
    "        sCount[s[l]]-=1\n",
    "\n",
    "        if sCount[s[l]]==0:\n",
    "            sCount.pop(s[l])\n",
    "        l+=1\n",
    "\n",
    "        if pCount==sCount:\n",
    "            res.append(l)\n",
    "    return res\n",
    "\n",
    "findAnagrams()"
   ]
  },
  {
   "cell_type": "markdown",
   "id": "156eae07",
   "metadata": {},
   "source": [
    "### 37. Reverse Nodes in k-Group: Reverse nodes in a linked list in groups of size k. \n",
    "For example, given 1->2->3->4->5 and k = 3, return 3->2->1->4->5.\n"
   ]
  },
  {
   "cell_type": "markdown",
   "id": "9272783e",
   "metadata": {},
   "source": [
    "### 38. Rotate Array:\n",
    "Rotate an array of n elements to the right by k steps. For example, given [1,2,3,4,5,6,7] and k = 3, the array should be modified to [5,6,7,1,2,3,4]."
   ]
  },
  {
   "cell_type": "code",
   "execution_count": 130,
   "id": "a2901183",
   "metadata": {},
   "outputs": [
    {
     "data": {
      "text/plain": [
       "[2, 3, 4, 5, 6, 7, 1]"
      ]
     },
     "execution_count": 130,
     "metadata": {},
     "output_type": "execute_result"
    }
   ],
   "source": [
    "#O(NM),O(1)\n",
    "def rotate_right2( A=[1,2,3,4,5,6,7],k=3): \n",
    "            \n",
    "    n=len(A)\n",
    "    for i in range(k):\n",
    "        temp=A[n-1]\n",
    "        for j in range(n-2,-1,-1):\n",
    "            A[j+1]=A[j]\n",
    "        A[0]=temp\n",
    "    return A\n",
    "\n",
    "rotate_right()"
   ]
  },
  {
   "cell_type": "code",
   "execution_count": 132,
   "id": "3b04629f",
   "metadata": {},
   "outputs": [
    {
     "data": {
      "text/plain": [
       "[5, 6, 7, 1, 2, 3, 4]"
      ]
     },
     "execution_count": 132,
     "metadata": {},
     "output_type": "execute_result"
    }
   ],
   "source": [
    "#O(N),O(1)\n",
    "def rotate( A=[1,2,3,4,5,6,7],k=3):\n",
    "    k=k%len(A)\n",
    "\n",
    "    #reverse entire arrray\n",
    "    l,r=0,len(A)-1\n",
    "    while l<r:\n",
    "        A[l],A[r]=A[r],A[l]\n",
    "        l+=1\n",
    "        r-=1\n",
    "\n",
    "    #reverse firt k elements \n",
    "    l,r=0,k-1\n",
    "    while l<r:\n",
    "        A[l],A[r]=A[r],A[l]\n",
    "        l+=1\n",
    "        r-=1\n",
    "\n",
    "    #reverse k to end elements \n",
    "    l,r=k,len(A)-1\n",
    "    while l<r:\n",
    "        A[l],A[r]=A[r],A[l]\n",
    "        l+=1\n",
    "        r-=1\n",
    "        \n",
    "    return A\n",
    "\n",
    "rotate()"
   ]
  },
  {
   "cell_type": "markdown",
   "id": "42504572",
   "metadata": {},
   "source": [
    "### 39. String to Integer (atoi): \n",
    "Implement the atoi function, which converts a string to an integer."
   ]
  },
  {
   "cell_type": "code",
   "execution_count": 12,
   "id": "93fc625a",
   "metadata": {},
   "outputs": [
    {
     "data": {
      "text/plain": [
       "-43"
      ]
     },
     "execution_count": 12,
     "metadata": {},
     "output_type": "execute_result"
    }
   ],
   "source": [
    "def atoi(s='  -43'):\n",
    "\n",
    "    i=0\n",
    "    sign=1\n",
    "    parsed=0\n",
    "\n",
    "    s=s.lstrip()\n",
    "    if not s:\n",
    "        return 0\n",
    "\n",
    "    if s[i]=='+':\n",
    "        i+=1\n",
    "    elif s[i]=='-':\n",
    "        sign=-1\n",
    "        i+=1\n",
    "\n",
    "    while i<len(s):\n",
    "        if not s[i].isdigit():\n",
    "            break\n",
    "        parsed=10*parsed+int(s[i])\n",
    "        i+=1\n",
    "\n",
    "    parsed*=sign\n",
    "\n",
    "    if parsed>2**31-1:\n",
    "        return 2**31-1\n",
    "    elif parsed<=-2**31:\n",
    "        return -2**31\n",
    "    else:\n",
    "        return parsed\n",
    "\n",
    "    return \n",
    "        \n",
    "atoi()      \n",
    "        \n",
    "        "
   ]
  },
  {
   "cell_type": "markdown",
   "id": "7430c143",
   "metadata": {},
   "source": [
    "Binary Tree Level Order Traversal: Perform a level order traversal of a binary tree and return the node values at each level.\n",
    "Reverse Linked List II: Reverse a linked list from position m to n.\n",
    "Implement Trie (Prefix Tree): Implement a trie data structure that supports insert, search, and startsWith operations.\n",
    "Binary Tree Inorder Traversal: Perform an inorder traversal of a binary tree and return the node values.\n",
    "Unique Paths: Given a grid of m x n, find the number of unique paths from the top-left corner to the bottom-right corner.\n",
    "Subsets: Generate all possible subsets of a set.\n",
    "Count and Say: Generate the nth count and say sequence.\n",
    "Pow(x, n): Implement a function to calculate x raised to the power of n.\n",
    "Combination Sum: Given a set of candidate numbers and a target sum, find all unique combinations of the candidates that sum up to the target."
   ]
  },
  {
   "cell_type": "markdown",
   "id": "1a7e9db4",
   "metadata": {},
   "source": [
    "### 40. Binary Tree Level Order Traversal:\n",
    "Perform a level order traversal of a binary tree and return the node values at each level."
   ]
  },
  {
   "cell_type": "code",
   "execution_count": 13,
   "id": "59b491ec",
   "metadata": {},
   "outputs": [],
   "source": [
    "   \n",
    "def level_oeder(root):\n",
    "    res=[]\n",
    "    if not root:\n",
    "        return \n",
    "    q=deque([root])\n",
    "\n",
    "    while q:\n",
    "        lvl=[]\n",
    "        for _ in range(len(q)):\n",
    "            node=q.popleft()\n",
    "            lvl.append(node.val)\n",
    "            if node.left:\n",
    "                q.append(node.left)\n",
    "            if node.right:\n",
    "                q.append(node.right)\n",
    "        res.append(lvl)\n",
    "    return res\n"
   ]
  },
  {
   "cell_type": "markdown",
   "id": "cd2f91e7",
   "metadata": {},
   "source": [
    "### 41. Reverse Linked List II: \n",
    "Reverse a linked list from position m to n.\n"
   ]
  },
  {
   "cell_type": "code",
   "execution_count": 15,
   "id": "871ebfa9",
   "metadata": {},
   "outputs": [
    {
     "name": "stdout",
     "output_type": "stream",
     "text": [
      "1-->2-->3-->4-->5-->None\n",
      "1-->4-->3-->2-->5-->None\n"
     ]
    }
   ],
   "source": [
    "def reverseBetween( head=ListNode(1,ListNode(2,ListNode(3,ListNode(4,ListNode(5))))), left=2, right=4):\n",
    "    print_list(head)\n",
    "    dum=ListNode(0,head)\n",
    "    cur=head\n",
    "    lprev=dum\n",
    "\n",
    "    for i in range(left-1):\n",
    "        lprev=cur\n",
    "        cur=cur.next\n",
    "\n",
    "    # at this point cur is left(2) node and lprev is the node before left (1)\n",
    "\n",
    "    # reverse form left to right \n",
    "    prev=None\n",
    "    for i in range(right-left+1):\n",
    "        tmp=cur.next\n",
    "        cur.next=prev\n",
    "        prev=cur\n",
    "        cur=tmp\n",
    "\n",
    "    # at this point prev is right (4) and cur is next to the right (5)\n",
    "    lprev.next.next=cur\n",
    "    lprev.next=prev\n",
    "\n",
    "    return dum.next\n",
    "\n",
    "print_list(reverseBetween())"
   ]
  },
  {
   "cell_type": "markdown",
   "id": "f131cc25",
   "metadata": {},
   "source": [
    "### 42. Implement Trie (Prefix Tree): \n",
    "Implement a trie data structure that supports insert, search, and startsWith operations.\n"
   ]
  },
  {
   "cell_type": "code",
   "execution_count": 30,
   "id": "9ebcb198",
   "metadata": {},
   "outputs": [
    {
     "data": {
      "text/plain": [
       "True"
      ]
     },
     "execution_count": 30,
     "metadata": {},
     "output_type": "execute_result"
    }
   ],
   "source": [
    "class TriNode:\n",
    "    def __init__(self):\n",
    "        self.dic={}\n",
    "        self.isEnd=False\n",
    "        \n",
    "class Tri:\n",
    "    def __init__(self):\n",
    "        self.head=TriNode()\n",
    "        \n",
    "    def insert(self,word):\n",
    "        cur=self.head\n",
    "        for ch in word:\n",
    "            if not ch in cur.dic:\n",
    "                cur.dic[ch]=TriNode()\n",
    "            cur=cur.dic[ch]\n",
    "            \n",
    "        cur.isEnd=True\n",
    "        \n",
    "    def search(self,word):\n",
    "        cur=self.head\n",
    "        \n",
    "        for ch in word:\n",
    "            if not ch in cur.dic:\n",
    "                return False\n",
    "            cur=cur.dic[ch]\n",
    "            \n",
    "        return cur.isEnd\n",
    "    \n",
    "    def search_prefix(self,word):\n",
    "        cur=self.head\n",
    "        \n",
    "        for ch in word:\n",
    "            if not ch in cur.dic:\n",
    "                return False\n",
    "            cur=cur.dic[ch]\n",
    "            \n",
    "        return True\n",
    "    \n",
    "    \n",
    "t=Tri()\n",
    "txt='A trie ( pronounced as try ) or prefix tree is a tree data structure used to efficiently store and retrieve keys in a dataset of strings. There are various applications of this data structure, such as autocomplete and spellchecker.'\n",
    "txt=txt.split(' ')\n",
    "\n",
    "for word in txt:\n",
    "    t.insert(word)\n",
    "    \n",
    "t.search_prefix('struc')\n",
    "            \n",
    "        "
   ]
  },
  {
   "cell_type": "markdown",
   "id": "27c14cfe",
   "metadata": {},
   "source": [
    "### 43. Binary Tree Inorder Traversal: \n",
    "Perform an inorder traversal of a binary tree and return the node values.\n"
   ]
  },
  {
   "cell_type": "code",
   "execution_count": 32,
   "id": "f1eb0efe",
   "metadata": {},
   "outputs": [
    {
     "name": "stdout",
     "output_type": "stream",
     "text": [
      "4,2,1,3,"
     ]
    }
   ],
   "source": [
    "class TreeNode:\n",
    "    def __init__(self,val=0,left=None,right=None):\n",
    "        self.val=val\n",
    "        self.left=left\n",
    "        self.right=right\n",
    "    \n",
    "def inorder(root=TreeNode(1,TreeNode(2,TreeNode(4)),TreeNode(3))):\n",
    "    if not root:\n",
    "        return\n",
    "    inorder(root.left)\n",
    "    print(root.val,end=',')\n",
    "    inorder(root.right)\n",
    "    \n",
    "inorder()\n",
    "    \n",
    "    "
   ]
  },
  {
   "cell_type": "markdown",
   "id": "757858c8",
   "metadata": {},
   "source": [
    "### 44. Unique Paths: \n",
    "Given a grid of m x n, find the number of unique paths from the top-left corner to the bottom-right corner."
   ]
  },
  {
   "cell_type": "code",
   "execution_count": 23,
   "id": "6599354f",
   "metadata": {},
   "outputs": [
    {
     "data": {
      "text/plain": [
       "2"
      ]
     },
     "execution_count": 23,
     "metadata": {},
     "output_type": "execute_result"
    }
   ],
   "source": [
    "#backtracking\n",
    "def unique_paths(m=2,n=2):\n",
    "    path=[]\n",
    "    res=[]\n",
    "    \n",
    "    def move(r,c,path):\n",
    "        if (r>=m and c<n)or (c>=n and r<m):\n",
    "            return \n",
    "        if r==m-1 and c==n-1:\n",
    "            res.append(path)\n",
    "            \n",
    "        move(r+1,c,path+['D'])\n",
    "        move(r,c+1,path+['R'])\n",
    "        return len(res) \n",
    "    \n",
    "    return move(0,0,path)\n",
    "\n",
    "unique_paths()"
   ]
  },
  {
   "cell_type": "code",
   "execution_count": 24,
   "id": "415ae9f0",
   "metadata": {},
   "outputs": [
    {
     "data": {
      "text/plain": [
       "40116600"
      ]
     },
     "execution_count": 24,
     "metadata": {},
     "output_type": "execute_result"
    }
   ],
   "source": [
    "#dp\n",
    "def unique_paths2(m=15,n=15):\n",
    "    dp=[[0 for _ in range(n)] for _ in range(n)]\n",
    "    \n",
    "    def solve(r,c):\n",
    "        if r==m-1 or c==n-1:\n",
    "            return 1\n",
    "        return dp[r][c] if dp[r][c]!=0 else solve(r+1,c)+solve(r,c+1)\n",
    "    \n",
    "    return solve(0,0)\n",
    "\n",
    "unique_paths2()"
   ]
  },
  {
   "cell_type": "markdown",
   "id": "178d3603",
   "metadata": {},
   "source": [
    "### 45. Subsets: \n",
    "Generate all possible subsets of a set."
   ]
  },
  {
   "cell_type": "code",
   "execution_count": 28,
   "id": "9399b6f9",
   "metadata": {},
   "outputs": [
    {
     "data": {
      "text/plain": [
       "[[], [1], [2], [1, 2], [3], [1, 3], [2, 3], [1, 2, 3]]"
      ]
     },
     "execution_count": 28,
     "metadata": {},
     "output_type": "execute_result"
    }
   ],
   "source": [
    "def subsets(nums=[1,2,3]):\n",
    "    n=2**len(nums)\n",
    "    res=[]\n",
    "    \n",
    "    for i in range(n):\n",
    "        curset=set()\n",
    "        for j in range(len(nums)):\n",
    "            if getbit(i,j):\n",
    "                curset.add(nums[j])\n",
    "        res.append(list(curset))\n",
    "    return res\n",
    "\n",
    "def getbit(i,j):\n",
    "    if i& (1<<j):\n",
    "        return True\n",
    "    return False\n",
    "\n",
    "subsets()\n",
    "                "
   ]
  },
  {
   "cell_type": "markdown",
   "id": "e412e290",
   "metadata": {},
   "source": [
    "### 46. Count and Say: \n",
    "Generate the nth count and say sequence.\n"
   ]
  },
  {
   "cell_type": "code",
   "execution_count": 51,
   "id": "224aae34",
   "metadata": {},
   "outputs": [
    {
     "name": "stdout",
     "output_type": "stream",
     "text": [
      "\n",
      "1\n",
      "11\n",
      "21\n",
      "1211\n",
      "111221\n"
     ]
    }
   ],
   "source": [
    "def countandsay(n=10)   :    \n",
    "    res = []\n",
    "\n",
    "    for _ in range(n):\n",
    "        if not res: res = ['1']\n",
    "        else:\n",
    "            newRes = []\n",
    "            i = 0\n",
    "\n",
    "            while i < len(res):\n",
    "                count = 0\n",
    "                curr = res[i]\n",
    "\n",
    "                while i < len(res) and res[i] == curr: # loop until digits are same.\n",
    "                    count += 1\n",
    "                    i += 1\n",
    "\n",
    "                newRes += [str(count), curr]\n",
    "\n",
    "            res = newRes\n",
    "\n",
    "    return ''.join(res)\n",
    "\n",
    "for i in range(6):\n",
    "    print(countandsay(i))\n"
   ]
  },
  {
   "cell_type": "markdown",
   "id": "cc6cb3f1",
   "metadata": {},
   "source": [
    "### 47. Pow(x, n): \n",
    "Implement a function to calculate x raised to the power of n.\n"
   ]
  },
  {
   "cell_type": "code",
   "execution_count": 66,
   "id": "2571d31d",
   "metadata": {},
   "outputs": [
    {
     "data": {
      "text/plain": [
       "2147483648"
      ]
     },
     "execution_count": 66,
     "metadata": {},
     "output_type": "execute_result"
    }
   ],
   "source": [
    "def pow(x=2,n=31):\n",
    "    res=1\n",
    "    if n<0:\n",
    "        return pow(1/x,-n)\n",
    "\n",
    "    while n>0:\n",
    "        if n%2==0:\n",
    "            x=x*x\n",
    "            n=n//2\n",
    "        else:\n",
    "            res=res*x\n",
    "            n=n-1\n",
    "    return res\n",
    "\n",
    "pow()"
   ]
  },
  {
   "cell_type": "markdown",
   "id": "7fc0db7a",
   "metadata": {},
   "source": [
    "### 48. Combination Sum:\n",
    "Given a set of candidate numbers and a target sum, find all unique combinations of the candidates that sum up to the target."
   ]
  },
  {
   "cell_type": "code",
   "execution_count": 1,
   "id": "efdf8be6",
   "metadata": {},
   "outputs": [
    {
     "data": {
      "text/plain": [
       "[[2, 2, 2, 2], [2, 3, 3], [3, 5]]"
      ]
     },
     "execution_count": 1,
     "metadata": {},
     "output_type": "execute_result"
    }
   ],
   "source": [
    "import copy\n",
    "def combinationSum( candidates=[2,3,5], target=8 )  :\n",
    "    path,res=[],[]\n",
    "    \n",
    "    def perm(i,total,path):\n",
    "        if total>target or i>=len(candidates):\n",
    "            return\n",
    "        if total==target:\n",
    "            res.append(copy.copy(path))\n",
    "            return\n",
    "        #path.append(candidates[i])\n",
    "        perm(i,total+candidates[i],path+[candidates[i]])\n",
    "        #path.pop()\n",
    "        perm(i+1,total,path)\n",
    "        return res\n",
    "    \n",
    "    return perm(0,0,path)\n",
    "\n",
    "combinationSum()"
   ]
  },
  {
   "cell_type": "raw",
   "id": "1ac094cd",
   "metadata": {},
   "source": [
    "Word Search: Given a 2D board and a word, determine if the word exists in the board.\n",
    "Merge Intervals: Given a collection of intervals, merge overlapping intervals.\n",
    "Course Schedule: Determine if it is possible to complete all courses given a list of prerequisites.\n",
    "Snapshot Array.\n",
    "Next Permutation: Implement the next permutation, which rearranges numbers into the lexicographically next greater permutation of numbers.\n",
    "Longest Increasing Subsequence: Find the length of the longest increasing subsequence in an array.\n",
    "Binary Tree Maximum Path Sum: Find the maximum path sum in a binary tree.\n",
    "Tree has path sum\n",
    "Jump Game: Determine if you can reach the last index of an array by jumping from index to index.\n",
    "Group Anagrams: Given an array of strings, group the anagrams together.\n",
    "Container With Most Water: Given n non-negative integers representing vertical lines, find two lines that form a container that holds the most water.\n",
    "Implement Regular Expression Matching: Implement regular expression matching with support for '.' and '*'."
   ]
  },
  {
   "cell_type": "markdown",
   "id": "35941a3c",
   "metadata": {},
   "source": [
    "### 49. Word Search: \n",
    "Given a 2D board and a word, determine if the word exists in the board.\n"
   ]
  },
  {
   "cell_type": "code",
   "execution_count": 80,
   "id": "286bfc18",
   "metadata": {},
   "outputs": [
    {
     "data": {
      "text/plain": [
       "False"
      ]
     },
     "execution_count": 80,
     "metadata": {},
     "output_type": "execute_result"
    }
   ],
   "source": [
    "def word_search(board = [[\"A\",\"B\",\"C\",\"E\"],\n",
    "                         [\"S\",\"F\",\"C\",\"S\"],\n",
    "                         [\"A\",\"D\",\"E\",\"E\"]], word = \"BCECED\"):\n",
    "    rows,cols=len(board),len(board[0])\n",
    "    visited=set()\n",
    "\n",
    "    def dfs(r,c,k):\n",
    "        if k==len(word):\n",
    "            return True\n",
    "        if r<0 or c<0 or r>=rows or c>=cols or board[r][c]!=word[k] or (r,c) in visited:\n",
    "            return False\n",
    "        visited.add((r,c))\n",
    "        res=(dfs(r+1,c,k+1) or dfs(r,c+1,k+1) or dfs(r-1,c,k+1) or dfs(r,c-1,k+1))\n",
    "        visited.remove((r,c))\n",
    "        return res\n",
    "\n",
    "    for i in range (rows):\n",
    "        for j in range(cols):\n",
    "            if dfs(i,j,0):\n",
    "                return True\n",
    "    return False\n",
    "                    \n",
    "word_search()\n",
    "#O(n*m*4^len(word))"
   ]
  },
  {
   "cell_type": "markdown",
   "id": "5744f972",
   "metadata": {},
   "source": [
    "### 50. Merge Intervals: \n",
    "Given a collection of intervals, merge overlapping intervals.\n"
   ]
  },
  {
   "cell_type": "code",
   "execution_count": 118,
   "id": "1945abe1",
   "metadata": {},
   "outputs": [
    {
     "data": {
      "text/plain": [
       "[[1, 3], [4, 6]]"
      ]
     },
     "execution_count": 118,
     "metadata": {},
     "output_type": "execute_result"
    }
   ],
   "source": [
    "def merge_intervals(intervals=[[1,3],[5,6],[4,5]]):\n",
    "    intervals=sorted(intervals,key=lambda x:x[0])\n",
    "    res=[]\n",
    "    \n",
    "    for v in intervals:\n",
    "        if not res or v[0]>res[-1][1]:\n",
    "            res.append(v)\n",
    "        else:\n",
    "            res[-1][1]=max(res[-1][1],v[1])\n",
    "    return res\n",
    "\n",
    "merge_intervals()"
   ]
  },
  {
   "cell_type": "markdown",
   "id": "14661bb0",
   "metadata": {},
   "source": [
    "### 51. Course Schedule: \n",
    "Determine if it is possible to complete all courses given a list of prerequisites.\n"
   ]
  },
  {
   "cell_type": "code",
   "execution_count": 13,
   "id": "30984deb",
   "metadata": {},
   "outputs": [
    {
     "name": "stdout",
     "output_type": "stream",
     "text": [
      "{0: [], 1: [0], 2: [1, 3], 3: []} [0, 0, 0, 0]\n",
      "[2, 2, 2, 2]\n"
     ]
    },
    {
     "data": {
      "text/plain": [
       "True"
      ]
     },
     "execution_count": 13,
     "metadata": {},
     "output_type": "execute_result"
    }
   ],
   "source": [
    "def canFinish( numCourses=4, prerequisites=[[1,0],[2,1],[2,3]]):\n",
    "    dic={crs:[] for crs in range(numCourses)}\n",
    "    visited=[0]*numCourses\n",
    "    for crs,pre in prerequisites:\n",
    "        dic[crs].append(pre)\n",
    "    print(dic,visited)\n",
    "    \n",
    "    def dfs(crs):\n",
    "        if visited[crs]==1:\n",
    "            return False\n",
    "        if dic[crs]==[]:\n",
    "            visited[crs]=2\n",
    "            return True\n",
    "        visited[crs]=1\n",
    "        \n",
    "        for pre in dic[crs]:\n",
    "            if not dfs(pre):\n",
    "                return False\n",
    "            dic[crs].remove(pre)\n",
    "        visited[crs]=2\n",
    "        return True\n",
    "        \n",
    "    for crs in range(numCourses):   \n",
    "        if not dfs(crs):\n",
    "            return False\n",
    "    print(visited)\n",
    "    return True\n",
    "    \n",
    "canFinish()"
   ]
  },
  {
   "cell_type": "markdown",
   "id": "2cc53155",
   "metadata": {},
   "source": [
    "### 52. Snapshot Array"
   ]
  },
  {
   "cell_type": "code",
   "execution_count": 87,
   "id": "03045d5c",
   "metadata": {},
   "outputs": [
    {
     "name": "stdout",
     "output_type": "stream",
     "text": [
      "[[[-1, 0]], [[-1, 0]], [[-1, 0]]]\n",
      "[[[-1, 0], [0, 10]], [[-1, 0], [0, 20]], [[-1, 0], [0, 30]]]\n",
      "[[[-1, 0], [0, 10], [1, 100]], [[-1, 0], [0, 20], [1, 200]], [[-1, 0], [0, 30], [1, 300]]]\n"
     ]
    },
    {
     "data": {
      "text/plain": [
       "300"
      ]
     },
     "execution_count": 87,
     "metadata": {},
     "output_type": "execute_result"
    }
   ],
   "source": [
    "class SnapshotArray(object):\n",
    "    def __init__(self,n):\n",
    "        self.Arr=[[[-1,0]] for _ in range(n)]\n",
    "        self.snap_id=0\n",
    "        \n",
    "    def set(self,index,val):\n",
    "        self.Arr[index].append([self.snap_id,val])\n",
    "    \n",
    "    def snap(self):\n",
    "        self.snap_id+=1\n",
    "        return self.snap_id-1\n",
    "    \n",
    "    def get(self,index,snap_id):\n",
    "        l,r=0,len(self.Arr[index])-1\n",
    "        while l<=r:\n",
    "            mid=(l+r)//2\n",
    "            if self.Arr[index][mid][0]==snap_id:\n",
    "                return self.Arr[index][mid][1]\n",
    "            elif  self.Arr[index][mid][0]>snap_id:\n",
    "                r=mid-1\n",
    "            else:\n",
    "                l=mid+1\n",
    "        return self.Arr[index][self.snap_id+1][1]\n",
    "                \n",
    "arr=SnapshotArray(3)\n",
    "print(arr.Arr)\n",
    "arr.set(0,10) #index ,value\n",
    "arr.set(1,20)\n",
    "arr.set(2,30)\n",
    "print(arr.Arr)\n",
    "\n",
    "arr.snap() #increase snap (version)\n",
    "\n",
    "arr.set(0,100)\n",
    "arr.set(1,200)\n",
    "arr.set(2,300)\n",
    "\n",
    "print(arr.Arr)\n",
    "\n",
    "arr.get(2,10) # index, version/snap"
   ]
  },
  {
   "cell_type": "markdown",
   "id": "826fa26d",
   "metadata": {},
   "source": [
    "### 53. Next Permutation: \n",
    "Implement the next permutation, which rearranges numbers into the lexicographically next greater permutation of numbers."
   ]
  },
  {
   "cell_type": "code",
   "execution_count": 66,
   "id": "302f0881",
   "metadata": {},
   "outputs": [
    {
     "data": {
      "text/plain": [
       "[[1, 2, 3], [1, 3, 2], [2, 1, 3], [2, 3, 1], [3, 1, 2], [3, 2, 1]]"
      ]
     },
     "execution_count": 66,
     "metadata": {},
     "output_type": "execute_result"
    }
   ],
   "source": [
    "# permutations \n",
    "\n",
    "def permute(s=[1,2,3]):\n",
    "    res,path=[],[]\n",
    "    \n",
    "    def perm(s,path):\n",
    "        if not s:\n",
    "            res.append(path)\n",
    "            return \n",
    "             \n",
    "        for i in range(len(s)):\n",
    "            perm(s[:i]+s[i+1:],path+[s[i]])\n",
    "        \n",
    "        return res\n",
    "    \n",
    "    return perm(s,path)\n",
    "            \n",
    "permute()"
   ]
  },
  {
   "cell_type": "code",
   "execution_count": 74,
   "id": "bb7a62f2",
   "metadata": {},
   "outputs": [
    {
     "data": {
      "text/plain": [
       "[1, 2, 3]"
      ]
     },
     "execution_count": 74,
     "metadata": {},
     "output_type": "execute_result"
    }
   ],
   "source": [
    "def next_permutation(nums=[3,2,1]):\n",
    "        # To find next permutations, we'll start from the end\n",
    "        i = j = len(nums)-1\n",
    "        # First we'll find the first non-increasing/peak element starting from the end\n",
    "        while i > 0 and nums[i-1] >= nums[i]:\n",
    "            i -= 1\n",
    "        # After completion of the first loop, there will be two cases\n",
    "        # 1. Our i becomes zero (This will happen if the given array is sorted decreasingly). In this case, we'll simply reverse the sequence and will return \n",
    "        if i == 0:\n",
    "            nums.reverse()\n",
    "            return nums\n",
    "        # 2. If it's not zero then we'll find the first number grater then nums[i-1] starting from end\n",
    "        while nums[j] <= nums[i-1]:\n",
    "            j -= 1\n",
    "        # Now out pointer is pointing at two different positions\n",
    "        # i. first non-assending number from end\n",
    "        # j. first number greater than nums[i-1]\n",
    "        \n",
    "        # We'll swap these two numbers\n",
    "        nums[i-1], nums[j] = nums[j], nums[i-1]\n",
    "        \n",
    "        # We'll reverse a sequence strating from i to end\n",
    "        nums[i:]= nums[len(nums)-1:i-1:-1]\n",
    "        # We don't need to return anything as we've modified nums in-place.  \n",
    "        return nums\n",
    "    \n",
    "next_permutation()"
   ]
  },
  {
   "cell_type": "markdown",
   "id": "02b561fe",
   "metadata": {},
   "source": [
    "### 54. Longest Increasing Subsequence: \n",
    "Find the length of the longest increasing subsequence in an array.\n"
   ]
  },
  {
   "cell_type": "code",
   "execution_count": 131,
   "id": "24b1c1f4",
   "metadata": {},
   "outputs": [
    {
     "data": {
      "text/plain": [
       "[[],\n",
       " [10],\n",
       " [10, 2],\n",
       " [10, 2, 3],\n",
       " [10, 2, 3, 4],\n",
       " [10, 2, 4],\n",
       " [10, 3],\n",
       " [10, 3, 4],\n",
       " [10, 4],\n",
       " [2],\n",
       " [2, 3],\n",
       " [2, 3, 4],\n",
       " [2, 4],\n",
       " [3],\n",
       " [3, 4],\n",
       " [4]]"
      ]
     },
     "execution_count": 131,
     "metadata": {},
     "output_type": "execute_result"
    }
   ],
   "source": [
    "#DFS, brute force (2^n)\n",
    "\n",
    "def Subsequence(nums=[10,2,3,4]):\n",
    "    path,res=[],[]\n",
    "    \n",
    "    def dfs(cur,path):\n",
    "        res.append(path.copy())\n",
    "        for i in range(cur,len(nums)):\n",
    "            path.append(nums[i])\n",
    "            dfs(i+1,path)\n",
    "            path.pop()\n",
    "        return res\n",
    "    return dfs(0,path)\n",
    "\n",
    "#Subsequence()"
   ]
  },
  {
   "cell_type": "code",
   "execution_count": 146,
   "id": "6ec28ec6",
   "metadata": {},
   "outputs": [
    {
     "data": {
      "text/plain": [
       "3"
      ]
     },
     "execution_count": 146,
     "metadata": {},
     "output_type": "execute_result"
    }
   ],
   "source": [
    "#dp, o(n^2)\n",
    "def LIS(nums=[10,2,3,4]):\n",
    "    dp=[1]*len(nums)\n",
    "    for i in range(len(nums)-1,-1,-1):\n",
    "        for j in range(i+1,len(nums)):\n",
    "            if nums[i]<nums[j]:\n",
    "                dp[i]=max(dp[i],1+dp[j])\n",
    "                \n",
    "    return max(dp)\n",
    "        \n",
    "LIS()"
   ]
  },
  {
   "cell_type": "markdown",
   "id": "c235c9e4",
   "metadata": {},
   "source": [
    "### 55. Binary Tree Maximum Path Sum: \n",
    "Find the maximum path sum in a binary tree.\n"
   ]
  },
  {
   "cell_type": "code",
   "execution_count": 160,
   "id": "ed7508a2",
   "metadata": {},
   "outputs": [],
   "source": [
    "class treeNode:\n",
    "    def __init__(self,val=0,left=None,right=None):\n",
    "        self.val=val\n",
    "        self.left=left\n",
    "        self.right=right"
   ]
  },
  {
   "cell_type": "code",
   "execution_count": 164,
   "id": "643c5f9e",
   "metadata": {},
   "outputs": [
    {
     "data": {
      "text/plain": [
       "3"
      ]
     },
     "execution_count": 164,
     "metadata": {},
     "output_type": "execute_result"
    }
   ],
   "source": [
    "\n",
    "def treeHeight(root=treeNode(20,\n",
    "                             treeNode(10,\n",
    "                        treeNode(2),treeNode(5)),  treeNode(30))):\n",
    "\n",
    "    if not root:\n",
    "        return 0\n",
    "    lh=treeHeight(root.left)\n",
    "    rh=treeHeight(root.right)\n",
    "    return 1+max(lh,rh)\n",
    "\n",
    "\n",
    "\n",
    "treeHeight()"
   ]
  },
  {
   "cell_type": "code",
   "execution_count": 170,
   "id": "2251df0d",
   "metadata": {},
   "outputs": [
    {
     "data": {
      "text/plain": [
       "65"
      ]
     },
     "execution_count": 170,
     "metadata": {},
     "output_type": "execute_result"
    }
   ],
   "source": [
    "def maxpathSum(root=treeNode(20,\n",
    "                treeNode(10,\n",
    "             treeNode(2),treeNode(5)),  treeNode(30))):\n",
    "    \n",
    "    res=[0]\n",
    "    \n",
    "    def dfs(root):\n",
    "        if not root:\n",
    "            return 0\n",
    "        lmax=dfs(root.left)\n",
    "        rmax=dfs(root.right)\n",
    "        lmax=max(0,lmax)\n",
    "        rmax=max(0,rmax)\n",
    "        res[0]=max(res[0],root.val+lmax+rmax)\n",
    "        \n",
    "        return root.val+max(lmax,rmax)\n",
    "    dfs(root)\n",
    "    return res[0]\n",
    "\n",
    "maxpathSum()"
   ]
  },
  {
   "cell_type": "markdown",
   "id": "690f8b2d",
   "metadata": {},
   "source": [
    "### 56. Tree has path sum"
   ]
  },
  {
   "cell_type": "code",
   "execution_count": 169,
   "id": "b7aa99f3",
   "metadata": {},
   "outputs": [
    {
     "data": {
      "text/plain": [
       "False"
      ]
     },
     "execution_count": 169,
     "metadata": {},
     "output_type": "execute_result"
    }
   ],
   "source": [
    "def hasPathSum(root=treeNode(20,\n",
    "                treeNode(10,\n",
    "             treeNode(2),treeNode(5)),  treeNode(30)),targetSum=34):\n",
    "\n",
    "    def dfs(root,amount):\n",
    "        if not root:\n",
    "            return \n",
    "        amount=amount-root.val\n",
    "        if not root.left and not root.right:\n",
    "            return amount==0\n",
    "        if dfs(root.left,amount):\n",
    "            return True\n",
    "\n",
    "        if dfs(root.right,amount):\n",
    "            return True\n",
    "        return False\n",
    "\n",
    "    return dfs(root,targetSum)\n",
    "\n",
    "hasPathSum()"
   ]
  },
  {
   "cell_type": "markdown",
   "id": "20be88d4",
   "metadata": {},
   "source": [
    "### 57. Bubble sort"
   ]
  },
  {
   "cell_type": "code",
   "execution_count": 89,
   "id": "c5026fce",
   "metadata": {},
   "outputs": [
    {
     "data": {
      "text/plain": [
       "[1, 2, 3, 4, 5, 6, 8, 9, 10]"
      ]
     },
     "execution_count": 89,
     "metadata": {},
     "output_type": "execute_result"
    }
   ],
   "source": [
    "def bsort(nums=[10,9,3,8,4,6,5,2,1]):\n",
    "    n=len(nums)\n",
    "    for i in range (n-1):\n",
    "        for j in range(n-1-i):\n",
    "            if nums[j]>nums[j+1]:\n",
    "                nums[j],nums[j+1]=nums[j+1],nums[j]\n",
    "    return nums\n",
    "\n",
    "bsort()"
   ]
  },
  {
   "cell_type": "markdown",
   "id": "f205d5a3",
   "metadata": {},
   "source": [
    "### 58. Merge sort"
   ]
  },
  {
   "cell_type": "code",
   "execution_count": 22,
   "id": "f940c933",
   "metadata": {},
   "outputs": [
    {
     "data": {
      "text/plain": [
       "[1, 2, 3, 4, 5, 6, 8, 9, 10]"
      ]
     },
     "execution_count": 22,
     "metadata": {},
     "output_type": "execute_result"
    }
   ],
   "source": [
    "# devide and conqure\n",
    "def merge (left,right):\n",
    "    res=[]\n",
    "    i,j=0,0\n",
    "    while i<len(left) and j<len(right):\n",
    "        if left[i]<right[j]:\n",
    "            res.append(left[i])\n",
    "            i+=1\n",
    "        else:\n",
    "            res.append(right[j])\n",
    "            j+=1\n",
    "            \n",
    "    while i<len(left):\n",
    "            res.append(left[i])\n",
    "            i+=1\n",
    "            \n",
    "    while j<len(right):\n",
    "            res.append(right[j])\n",
    "            j+=1\n",
    "    return res\n",
    "                 \n",
    "        \n",
    "def mergeSort(nums=[10,9,3,8,4,6,5,2,1]):\n",
    "    if len(nums)<=1:\n",
    "        return nums\n",
    "    mid=len(nums)//2\n",
    "    left=mergeSort(nums[:mid])\n",
    "    right=mergeSort(nums[mid:])\n",
    "    \n",
    "    return merge(left,right)\n",
    "\n",
    "mergeSort()"
   ]
  },
  {
   "cell_type": "markdown",
   "id": "cd3e5cf8",
   "metadata": {},
   "source": [
    "### 59. Longest palindrome\n",
    "Given a string s which consists of lowercase or uppercase letters, return the length of the longest palindrome that can be built with those letters."
   ]
  },
  {
   "cell_type": "code",
   "execution_count": 82,
   "id": "6a8bd004",
   "metadata": {},
   "outputs": [
    {
     "data": {
      "text/plain": [
       "3"
      ]
     },
     "execution_count": 82,
     "metadata": {},
     "output_type": "execute_result"
    }
   ],
   "source": [
    "from collections import Counter\n",
    "\n",
    "def longestPal(s='aabc'):\n",
    "    dic=Counter(s)\n",
    "    res=0\n",
    "    for k,v in dic.items():\n",
    "        if v>1:\n",
    "            res+=v//2*2\n",
    "            dic[k]-=v//2*2\n",
    "    if 1 in dic.values():\n",
    "        res+=1\n",
    "    return res\n",
    "\n",
    "longestPal()\n",
    "            "
   ]
  },
  {
   "cell_type": "markdown",
   "id": "e7f1ee0c",
   "metadata": {},
   "source": [
    "### 60. Longest Palindromic substring"
   ]
  },
  {
   "cell_type": "code",
   "execution_count": 86,
   "id": "b4758604",
   "metadata": {},
   "outputs": [
    {
     "data": {
      "text/plain": [
       "7"
      ]
     },
     "execution_count": 86,
     "metadata": {},
     "output_type": "execute_result"
    }
   ],
   "source": [
    "def longestPalSubstr(s='abasfsab'):\n",
    "    maxsub=0\n",
    "    res=''\n",
    "    \n",
    "    # for odd len s\n",
    "    for i in range(len(s)):\n",
    "        l,r=i,i\n",
    "        while l>=0 and r<len(s) and s[l]==s[r]:\n",
    "            if (r-l+1)>maxsub:\n",
    "                maxsub=(r-l+1)\n",
    "                res=s[l:r+1]\n",
    "            l-=1\n",
    "            r+=1\n",
    "            \n",
    "        # for even len s\n",
    "        l,r=i,i+1\n",
    "        while l>=0 and r<len(s) and s[l]==s[r]:\n",
    "            if (r-l+1)>maxsub:\n",
    "                maxsub=(r-l+1)\n",
    "                res=s[l:r+1]\n",
    "            l-=1\n",
    "            r+=1\n",
    "\n",
    "    \n",
    "    return maxsub\n",
    "\n",
    "longestPalSubstr()"
   ]
  },
  {
   "cell_type": "markdown",
   "id": "95b31a75",
   "metadata": {},
   "source": [
    "### 61. Impelemnt strStr()\n",
    "Given two strings needle and haystack, return the index of the first occurrence of needle in haystack, or -1 if needle is not part of haystack."
   ]
  },
  {
   "cell_type": "code",
   "execution_count": 90,
   "id": "26f29ece",
   "metadata": {},
   "outputs": [
    {
     "data": {
      "text/plain": [
       "2"
      ]
     },
     "execution_count": 90,
     "metadata": {},
     "output_type": "execute_result"
    }
   ],
   "source": [
    "#o(n)\n",
    "def strStr(s='babyboss',p='byb'):    \n",
    "    i,j=0,0\n",
    "\n",
    "    while i<=len(s):\n",
    "        if j==len(p):\n",
    "            return i-(len(p))\n",
    "        elif i==len(s):\n",
    "            return -1\n",
    "        if s[i]==p[j]:\n",
    "            j+=1\n",
    "        else:\n",
    "            i=i-j\n",
    "            j=0\n",
    "        i+=1\n",
    "    return -1\n",
    "\n",
    "strStr()"
   ]
  },
  {
   "cell_type": "markdown",
   "id": "df6da324",
   "metadata": {},
   "source": [
    "### 62. Search Insert Position\n",
    "Given a sorted array of distinct integers and a target value, return the index if the target is found. If not, return the index where it would be if it were inserted in order."
   ]
  },
  {
   "cell_type": "code",
   "execution_count": 95,
   "id": "c147ad91",
   "metadata": {},
   "outputs": [
    {
     "data": {
      "text/plain": [
       "2"
      ]
     },
     "execution_count": 95,
     "metadata": {},
     "output_type": "execute_result"
    }
   ],
   "source": [
    "def searchInsert( nums=[1,2,4], target=3):\n",
    "    \n",
    "    l,r=0,len(nums)-1\n",
    "    \n",
    "    while l<=r:\n",
    "        mid=(l+r)//2\n",
    "        if nums[mid]==target:\n",
    "            return mid\n",
    "        elif nums[mid]>target:\n",
    "            r=mid-1\n",
    "        else:\n",
    "            l=mid+1\n",
    "    return r+1\n",
    "\n",
    "searchInsert()"
   ]
  },
  {
   "cell_type": "markdown",
   "id": "34b40614",
   "metadata": {},
   "source": [
    "### 63. Plus One\n",
    "You are given a large integer represented as an integer array digits, where each digits[i] is the ith digit of the integer. The digits are ordered from most significant to least significant in left-to-right order. The large integer does not contain any leading 0's.\n",
    "Increment the large integer by one and return the resulting array of digits."
   ]
  },
  {
   "cell_type": "code",
   "execution_count": 99,
   "id": "58ad10b1",
   "metadata": {},
   "outputs": [
    {
     "data": {
      "text/plain": [
       "[1, 0, 0, 0]"
      ]
     },
     "execution_count": 99,
     "metadata": {},
     "output_type": "execute_result"
    }
   ],
   "source": [
    "def plusOne(digits=[9,9,9]):\n",
    "\n",
    "    res=''\n",
    "    carry=1\n",
    "    for i in range(len(digits)-1,-1,-1):\n",
    "        cur=(digits[i]+carry)%10\n",
    "        carry=(digits[i]+carry)//10\n",
    "        res+=str(cur)\n",
    "    if carry==1:\n",
    "        res+='1'\n",
    "\n",
    "    return [int (d) for  d in res[::-1]]\n",
    "\n",
    "plusOne()"
   ]
  },
  {
   "cell_type": "markdown",
   "id": "1a184e03",
   "metadata": {},
   "source": [
    "### 64. Remove Linked List Elements\n",
    "Given the head of a linked list and an integer val, remove all the nodes of the linked list that has Node.val == val, and return the new head."
   ]
  },
  {
   "cell_type": "code",
   "execution_count": 3,
   "id": "80362523",
   "metadata": {},
   "outputs": [
    {
     "name": "stdout",
     "output_type": "stream",
     "text": [
      "1-->2-->1-->4-->None\n",
      "2-->4-->None\n"
     ]
    }
   ],
   "source": [
    "def removeElements( head=ListNode(1,ListNode(2,ListNode(1,ListNode(4)))), val=1):\n",
    "    print_list(head)\n",
    "    dum=ListNode(0,head)\n",
    "    cur=dum\n",
    "    while cur.next:\n",
    "        if cur.next.val==val:\n",
    "            cur.next=cur.next.next\n",
    "        else:\n",
    "            cur=cur.next\n",
    "    return dum.next\n",
    "\n",
    "print_list(removeElements())"
   ]
  },
  {
   "cell_type": "markdown",
   "id": "13d5c891",
   "metadata": {},
   "source": [
    "### 65. Is n power of 2"
   ]
  },
  {
   "cell_type": "code",
   "execution_count": 25,
   "id": "280776fa",
   "metadata": {},
   "outputs": [
    {
     "data": {
      "text/plain": [
       "True"
      ]
     },
     "execution_count": 25,
     "metadata": {},
     "output_type": "execute_result"
    }
   ],
   "source": [
    "def isPowerOfTwo( n=8):\n",
    "    if n==0:\n",
    "        return False\n",
    "    return n&(n-1)==0\n",
    "\n",
    "isPowerOfTwo()"
   ]
  },
  {
   "attachments": {
    "image.png": {
     "image/png": "[encoded data removed]"
    }
   },
   "cell_type": "markdown",
   "id": "e623d985",
   "metadata": {},
   "source": [
    "### 66.  Delete Node in a Linked List\n",
    "\n",
    "There is a singly-linked list head and we want to delete a node node in it.\n",
    "\n",
    "You are given the node to be deleted node. You will not be given access to the first node of head.\n",
    "\n",
    "All the values of the linked list are unique, and it is guaranteed that the given node node is not the last node in the linked list.![image.png](attachment:image.png)"
   ]
  },
  {
   "cell_type": "code",
   "execution_count": 26,
   "id": "4f922e4f",
   "metadata": {},
   "outputs": [],
   "source": [
    "def removeElement(node ):\n",
    "    node.val=node.next.val\n",
    "    node.next=node.next.next\n",
    " "
   ]
  },
  {
   "cell_type": "markdown",
   "id": "b30cbc93",
   "metadata": {},
   "source": [
    "### 67. Hamming Distance\n",
    "\n",
    "The Hamming distance between two integers is the number of positions at which the corresponding bits are different.\n",
    "\n",
    "Given two integers x and y, return the Hamming distance between them."
   ]
  },
  {
   "cell_type": "code",
   "execution_count": 49,
   "id": "87fdab1f",
   "metadata": {},
   "outputs": [
    {
     "data": {
      "text/plain": [
       "2"
      ]
     },
     "execution_count": 49,
     "metadata": {},
     "output_type": "execute_result"
    }
   ],
   "source": [
    "def hammingDistance( x=1, y=4):\n",
    "    \n",
    "    # 0001\n",
    "    # 0100 --> 2 bits are different\n",
    "\n",
    "    xs=bin(x)[2:][::-1]\n",
    "    ys=bin(y)[2:][::-1]\n",
    "    res=0\n",
    "\n",
    "    for i in range(max(len(xs),len(ys))):\n",
    "        d1=int(xs[i]) if i <len(xs) else 0\n",
    "        d2=int(ys[i]) if i <len(ys) else 0\n",
    "        res+=d1 ^d2\n",
    "\n",
    "    return res\n",
    "\n",
    "hammingDistance()\n"
   ]
  },
  {
   "cell_type": "code",
   "execution_count": 41,
   "id": "f7f53fb7",
   "metadata": {},
   "outputs": [
    {
     "name": "stdout",
     "output_type": "stream",
     "text": [
      "adult\n"
     ]
    }
   ],
   "source": [
    "is_adult = True\n",
    "if is_adult:\n",
    "    print(\"adult\")"
   ]
  },
  {
   "cell_type": "markdown",
   "id": "fe91c60f",
   "metadata": {},
   "source": [
    "## 10 easy frequent questions"
   ]
  },
  {
   "cell_type": "code",
   "execution_count": null,
   "id": "c6c52dad",
   "metadata": {},
   "outputs": [],
   "source": []
  },
  {
   "cell_type": "code",
   "execution_count": null,
   "id": "d0433c22",
   "metadata": {},
   "outputs": [],
   "source": [
    "Reverse a String: Write a function that takes a string as input and returns the reverse of that string. For example, given the input \"hello,\" the function should return \"olleh.\"\n",
    "\n",
    "Palindrome: Write a function that checks whether a given string is a palindrome. A palindrome is a word, phrase, number, or other sequence of characters that reads the same forward and backward.\n",
    "\n",
    "Fibonacci Sequence: Write a function that generates the Fibonacci sequence up to a given number n. The Fibonacci sequence is a series of numbers where each number is the sum of the two preceding ones (e.g., 0, 1, 1, 2, 3, 5, 8, ...).\n",
    "\n",
    "Find the Largest Element: Write a function that finds the largest element in an array or list of integers.\n",
    "\n",
    "Counting Words in a String: Write a function that takes a string as input and counts the number of words in the string.\n",
    "\n",
    "Check Prime Number: Write a function that checks whether a given number is a prime number. A prime number is a natural number greater than 1 that is not a product of two smaller natural numbers.\n",
    "\n",
    "Factorial: Write a function that calculates the factorial of a given number. The factorial of a non-negative integer n, denoted by n!, is the product of all positive integers less than or equal to n.\n",
    "\n",
    "Remove Duplicates: Write a function that takes a list as input and removes any duplicate elements, returning a new list with the duplicates removed.\n",
    "\n",
    "Check Anagrams: Write a function that checks whether two strings are anagrams. Anagrams are words or phrases formed by rearranging the letters of another word or phrase.\n",
    "\n",
    "Calculate Average: Write a function that calculates the average of a list of numbers."
   ]
  },
  {
   "cell_type": "code",
   "execution_count": 2,
   "id": "3ef44c98",
   "metadata": {},
   "outputs": [
    {
     "data": {
      "text/plain": [
       "'olleh'"
      ]
     },
     "execution_count": 2,
     "metadata": {},
     "output_type": "execute_result"
    }
   ],
   "source": [
    "def revStr(s='hello'):\n",
    "    s=list(s)\n",
    "    l,r=0,len(s)-1\n",
    "    while l<r:\n",
    "        s[l],s[r]=s[r],s[l]\n",
    "        l+=1\n",
    "        r-=1\n",
    "    return ''.join(s)\n",
    "\n",
    "revStr()\n",
    "        "
   ]
  },
  {
   "cell_type": "code",
   "execution_count": 12,
   "id": "78e8a0ad",
   "metadata": {},
   "outputs": [
    {
     "name": "stdout",
     "output_type": "stream",
     "text": [
      "['s', 'a', 's', 'a', 's']\n"
     ]
    },
    {
     "data": {
      "text/plain": [
       "True"
      ]
     },
     "execution_count": 12,
     "metadata": {},
     "output_type": "execute_result"
    }
   ],
   "source": [
    "def palindrome(s='  ,sas a s'):\n",
    "    s=[ch for ch in s if ch.isalnum()]\n",
    "    print(s)\n",
    "    l,r=0,len(s)-1\n",
    "    \n",
    "    while l<r:\n",
    "        if s[l]!=s[r]:\n",
    "            return False\n",
    "        l+=1\n",
    "        r-=1\n",
    "    return True\n",
    "\n",
    "palindrome()"
   ]
  },
  {
   "cell_type": "code",
   "execution_count": 14,
   "id": "b273dc14",
   "metadata": {},
   "outputs": [
    {
     "data": {
      "text/plain": [
       "[0, 1, 1, 2, 3, 5, 8, 13, 21, 34, 55]"
      ]
     },
     "execution_count": 14,
     "metadata": {},
     "output_type": "execute_result"
    }
   ],
   "source": [
    "def fibo(n=10):\n",
    "    dp=[0]*(n+1)\n",
    "    dp[1]=1\n",
    "    for i in range(2,len(dp)):\n",
    "        dp[i]=dp[i-1]+dp[i-2]\n",
    "    return dp\n",
    "\n",
    "fibo()"
   ]
  },
  {
   "cell_type": "code",
   "execution_count": 18,
   "id": "97c0ec33",
   "metadata": {},
   "outputs": [
    {
     "data": {
      "text/plain": [
       "10"
      ]
     },
     "execution_count": 18,
     "metadata": {},
     "output_type": "execute_result"
    }
   ],
   "source": [
    "def findmax(nums=[1,2,3,10,9,7,6]):\n",
    "    maxnum=nums[0]\n",
    "    for i in range(1,len(nums)):\n",
    "        if nums[i]>maxnum:\n",
    "            maxnum=nums[i]\n",
    "    return maxnum\n",
    "\n",
    "findmax()\n",
    "            "
   ]
  },
  {
   "cell_type": "code",
   "execution_count": 22,
   "id": "230028dc",
   "metadata": {},
   "outputs": [
    {
     "data": {
      "text/plain": [
       "(5, ['hello', 'how', 'are', 'you', 'today?'])"
      ]
     },
     "execution_count": 22,
     "metadata": {},
     "output_type": "execute_result"
    }
   ],
   "source": [
    "def wordCount(s='hello how are you today?'):\n",
    "    s=s.strip()\n",
    "    s=s.split(' ')\n",
    "    return len(s),s\n",
    "wordCount()"
   ]
  },
  {
   "cell_type": "code",
   "execution_count": 29,
   "id": "81aa4838",
   "metadata": {},
   "outputs": [
    {
     "data": {
      "text/plain": [
       "True"
      ]
     },
     "execution_count": 29,
     "metadata": {},
     "output_type": "execute_result"
    }
   ],
   "source": [
    "def primeNum(num=23):\n",
    "    fac=0\n",
    "    for i in range(1,num//2):\n",
    "        if num%i==0:\n",
    "            fac+=1\n",
    "        if fac>=2:\n",
    "            return False\n",
    "    return True\n",
    "\n",
    "primeNum()"
   ]
  },
  {
   "cell_type": "code",
   "execution_count": 36,
   "id": "3e694b7e",
   "metadata": {},
   "outputs": [
    {
     "data": {
      "text/plain": [
       "120"
      ]
     },
     "execution_count": 36,
     "metadata": {},
     "output_type": "execute_result"
    }
   ],
   "source": [
    "def factorial(n=5):\n",
    "    if n==0:\n",
    "        return 0\n",
    "    res=1\n",
    "    for i in range (1,n+1):\n",
    "        res=res*i\n",
    "        \n",
    "    return res\n",
    "factorial()"
   ]
  },
  {
   "cell_type": "code",
   "execution_count": 37,
   "id": "4849d3f1",
   "metadata": {},
   "outputs": [
    {
     "data": {
      "text/plain": [
       "120"
      ]
     },
     "execution_count": 37,
     "metadata": {},
     "output_type": "execute_result"
    }
   ],
   "source": [
    "def factorial(n=5):\n",
    "    if n==0:\n",
    "        return 1\n",
    "    return n*factorial(n-1)\n",
    "factorial()"
   ]
  },
  {
   "cell_type": "code",
   "execution_count": 42,
   "id": "a485d451",
   "metadata": {},
   "outputs": [
    {
     "data": {
      "text/plain": [
       "[1, 2, 'a', 4, 5]"
      ]
     },
     "execution_count": 42,
     "metadata": {},
     "output_type": "execute_result"
    }
   ],
   "source": [
    "def remDuplicates(nums=[1,2,2,'a','a',4,4,5]):\n",
    "    l,r=0,0\n",
    "    while r<len(nums):\n",
    "        if nums[r]!=nums[l]:\n",
    "            l+=1\n",
    "            nums[l]=nums[r]\n",
    "\n",
    "        r+=1\n",
    "    return nums[:l+1]\n",
    "remDuplicates()"
   ]
  },
  {
   "cell_type": "code",
   "execution_count": 47,
   "id": "76b3f3c0",
   "metadata": {},
   "outputs": [
    {
     "data": {
      "text/plain": [
       "True"
      ]
     },
     "execution_count": 47,
     "metadata": {},
     "output_type": "execute_result"
    }
   ],
   "source": [
    "from collections import Counter\n",
    "def checkAnagram(s='anagram',t='nagaram'):\n",
    "    #return sorted(s)==sorted(t)\n",
    "    return Counter(s)==Counter(t)\n",
    "checkAnagram()"
   ]
  },
  {
   "cell_type": "code",
   "execution_count": 58,
   "id": "91a1e758",
   "metadata": {},
   "outputs": [
    {
     "data": {
      "text/plain": [
       "{'acr': 2, 'act': 1, 'ast': 2}"
      ]
     },
     "execution_count": 58,
     "metadata": {},
     "output_type": "execute_result"
    }
   ],
   "source": [
    "#different with anagram here repeated chars need to be ignored and considered one char(set)\n",
    "def similar_word_root(s=['car','raac','cat','tas','ssaat']):\n",
    "    dic={}\n",
    "    for w in s:\n",
    "        key=''.join(sorted(set(w)))\n",
    "        dic[key]=1+dic.get(key,0)\n",
    "    return dic\n",
    "\n",
    "\n",
    "            \n",
    "anagramsList()      "
   ]
  },
  {
   "cell_type": "code",
   "execution_count": 50,
   "id": "906591df",
   "metadata": {},
   "outputs": [
    {
     "data": {
      "text/plain": [
       "'ast'"
      ]
     },
     "execution_count": 50,
     "metadata": {},
     "output_type": "execute_result"
    }
   ],
   "source": [
    "w='saat'\n",
    "''.join(sorted(set(w)))"
   ]
  },
  {
   "cell_type": "code",
   "execution_count": 57,
   "id": "886b1fbe",
   "metadata": {},
   "outputs": [
    {
     "data": {
      "text/plain": [
       "[['car', 'rac', 'acr'], ['cat'], ['tas'], ['ssaat']]"
      ]
     },
     "execution_count": 57,
     "metadata": {},
     "output_type": "execute_result"
    }
   ],
   "source": [
    "def groupAnagrams(s=['car','rac','acr','cat','tas','ssaat']):\n",
    "    dic,res={},[]\n",
    "    for w in s:\n",
    "        key=''.join(sorted(w))\n",
    "        dic[key]=dic.get(key,[])+[w]\n",
    "    for k,v in dic.items():\n",
    "        res.append(v)\n",
    "    return res\n",
    "\n",
    "groupAnagrams()"
   ]
  },
  {
   "cell_type": "code",
   "execution_count": 72,
   "id": "1ddb5c8a",
   "metadata": {},
   "outputs": [
    {
     "data": {
      "text/plain": [
       "755"
      ]
     },
     "execution_count": 72,
     "metadata": {},
     "output_type": "execute_result"
    }
   ],
   "source": [
    "def reveseInteger(num=5570):\n",
    "    if num<0:\n",
    "        sign=-1\n",
    "        num=num*-1\n",
    "    else:\n",
    "        sign=1\n",
    "    res=0\n",
    "    while num>0:\n",
    "        res=10*res+(num%10)\n",
    "        num=num//10\n",
    "    return sign*res\n",
    "\n",
    "reveseInteger()"
   ]
  },
  {
   "cell_type": "code",
   "execution_count": 73,
   "id": "1c6e118e",
   "metadata": {},
   "outputs": [
    {
     "data": {
      "text/plain": [
       "6"
      ]
     },
     "execution_count": 73,
     "metadata": {},
     "output_type": "execute_result"
    }
   ],
   "source": [
    "def maxsubArray(nums=[1,2,-2,4,-5,2,4]):\n",
    "    maxsum=cursum=nums[0]\n",
    "    for i in range(1,len(nums)):\n",
    "        cursum=max(nums[i],cursum+nums[i])\n",
    "        maxsum=max(maxsum,cursum)\n",
    "    return maxsum\n",
    "\n",
    "maxsubArray()"
   ]
  },
  {
   "cell_type": "code",
   "execution_count": 74,
   "id": "9927d547",
   "metadata": {},
   "outputs": [
    {
     "data": {
      "text/plain": [
       "[[1, 4], [5, 7]]"
      ]
     },
     "execution_count": 74,
     "metadata": {},
     "output_type": "execute_result"
    }
   ],
   "source": [
    "def mergeIntevals(intervals=[[1,3],[2,4],[5,7]]):\n",
    "    intervals=sorted(intervals,key=lambda x:x[0])\n",
    "    res=[]\n",
    "    for v in intervals:\n",
    "        if not res or res[-1][1]<v[0]:\n",
    "            res.append(v)\n",
    "        elif res[-1][1]>v[0]:\n",
    "            res[-1][1]=max(res[-1][1],v[1])\n",
    "    return res\n",
    "\n",
    "mergeIntevals()"
   ]
  },
  {
   "cell_type": "code",
   "execution_count": null,
   "id": "89b592cd",
   "metadata": {},
   "outputs": [],
   "source": []
  },
  {
   "cell_type": "code",
   "execution_count": 76,
   "id": "568c88b4",
   "metadata": {},
   "outputs": [
    {
     "name": "stdout",
     "output_type": "stream",
     "text": [
      "[5, 7, 1]\n",
      "[-5, 7, 1]\n",
      "First missing positive: 2\n"
     ]
    }
   ],
   "source": [
    "def firstMissingPositive(nums):\n",
    "    # Remove negative numbers and zeros\n",
    "    nums = [num for num in nums if num > 0]\n",
    "    print(nums)\n",
    "    \n",
    "    n = len(nums)\n",
    "    \n",
    "    # Mark numbers present in the array\n",
    "    for i in range(n):\n",
    "        num = abs(nums[i])\n",
    "        if num <= n:\n",
    "            nums[num - 1] = -abs(nums[num - 1])\n",
    "    print(nums)\n",
    "    \n",
    "    # Find the first positive number\n",
    "    for i in range(n):\n",
    "        if nums[i] > 0:\n",
    "            return i + 1\n",
    "        \n",
    "    print(nums)\n",
    "    # If all positive numbers are present, return the next number\n",
    "    return n + 1\n",
    "\n",
    "# Example usage:\n",
    "arr = [5,7,1]\n",
    "result = firstMissingPositive(arr)\n",
    "print(\"First missing positive:\", result)\n"
   ]
  },
  {
   "cell_type": "code",
   "execution_count": 50,
   "id": "ba935ec7",
   "metadata": {},
   "outputs": [
    {
     "name": "stdout",
     "output_type": "stream",
     "text": [
      "[[1, 4, 7], [2, 5, 8], [3, 6, 9]]\n"
     ]
    }
   ],
   "source": [
    "def diagonal(mat=[[1,2,3],\n",
    "                  [4,5,6],\n",
    "                  [7,8,9]]):\n",
    "    \n",
    "    for i in range(len(mat)):\n",
    "        for j in range(i):\n",
    "            mat[i][j],mat[j][i]=mat[j][i],mat[i][j]\n",
    "    print(mat)\n",
    "    \n",
    "diagonal()"
   ]
  },
  {
   "cell_type": "code",
   "execution_count": 78,
   "id": "42e5c7b2",
   "metadata": {},
   "outputs": [
    {
     "name": "stdout",
     "output_type": "stream",
     "text": [
      "Duplicate number: 2\n"
     ]
    }
   ],
   "source": [
    "def findDuplicate(nums):\n",
    "    # Find the intersection point of the two pointers\n",
    "    tortoise = hare = nums[0]\n",
    "    while True:\n",
    "        tortoise = nums[tortoise]\n",
    "        hare = nums[nums[hare]]\n",
    "        if tortoise == hare:\n",
    "            break\n",
    "    \n",
    "    # Find the entrance to the cycle (the duplicate number)\n",
    "    tortoise = nums[0]\n",
    "    while tortoise != hare:\n",
    "        tortoise = nums[tortoise]\n",
    "        hare = nums[hare]\n",
    "    \n",
    "    return hare\n",
    "\n",
    "# Example usage:\n",
    "arr = [1, 3, 4, 2, 2]\n",
    "result = findDuplicate(arr)\n",
    "print(\"Duplicate number:\", result)"
   ]
  },
  {
   "cell_type": "code",
   "execution_count": null,
   "id": "6f821323",
   "metadata": {},
   "outputs": [],
   "source": []
  }
 ],
 "metadata": {
  "kernelspec": {
   "display_name": "Python 3 (ipykernel)",
   "language": "python",
   "name": "python3"
  },
  "language_info": {
   "codemirror_mode": {
    "name": "ipython",
    "version": 3
   },
   "file_extension": ".py",
   "mimetype": "text/x-python",
   "name": "python",
   "nbconvert_exporter": "python",
   "pygments_lexer": "ipython3",
   "version": "3.9.12"
  }
 },
 "nbformat": 4,
 "nbformat_minor": 5
}
